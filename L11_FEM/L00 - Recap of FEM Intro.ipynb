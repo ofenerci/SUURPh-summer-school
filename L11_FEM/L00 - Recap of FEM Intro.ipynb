{
 "cells": [
  {
   "cell_type": "markdown",
   "metadata": {},
   "source": [
    "# The FEM cookbook\n",
    "\n",
    "From the video lecture, we know that the finite element method consists of a list of steps. We can summarise these in the **cookbook of the finite element method**.\n",
    "\n",
    "![alt text](images/fem_steps.jpg \"FEM steps\")\n",
    "\n",
    "The software FEniCS that we will be using, automates steps $(iii) \\to (iv)$. However, we need to become experts in $(i) \\to (iii)$, the derivation of the weak formulation."
   ]
  },
  {
   "cell_type": "markdown",
   "metadata": {},
   "source": [
    "Finding the weak formulation of the Poisson equation\n",
    "=================================\n",
    "\n",
    "Let us recap how we derived the weak formulation on an example. Consider the Poisson equation\n",
    "$$-u_{xx} = 0  \\quad \\text{on } \\Omega = (0, 1)$$ \n",
    "\n",
    "with *Dirichlet boundary conditions* \n",
    "\n",
    "$$u=1 \\quad \\text{at } x=0$$\n",
    "$$u=0 \\quad \\text{at } x=1.$$\n",
    "\n",
    "\n",
    "Deriving the weak formulation\n",
    "------------------------\n",
    "\n",
    "\n",
    "1. Multiply by arbitrary *test function* $v$ and integrate over $\\Omega$: $$-\\int \\limits_0^1 v \\cdot u_{xx}  \\text{dx} \\:=\\: 0$$ \n",
    "2. Integrate by parts:\n",
    " $$\\int\\limits_0^1 v \\cdot u_{xx} \\: \\text{dx} \\:=\\: v(1)u_x(1) \\:-\\: v(0) u_x(0) \\:-\\: \\int\\limits_0^1 v_x \\cdot u_x \\: \\text{dx} $$\n",
    " \n",
    "3. The weak form of the Poisson problem: Find $u$ such that\n",
    "  $$ -v(1)u_x(1) \\:+\\: v(0) u_x(0) \\:+\\: \\int\\limits_0^1 v_x \\cdot u_x \\: \\text{dx} = 0 \\hspace{5mm} \\quad \\text{for all } v$$\n",
    "\n",
    "3. The Dirichlet boundary conditions ''overwrite'' the terms evaluated at $x=0$ and $x=1$. Therefore we can simplify the weak form of the Poisson problem to: Find $u$ such that\n",
    "  $$ \\int\\limits_0^1 v_x \\cdot u_x \\: \\text{dx} = 0 \\hspace{5mm} \\quad \\text{for all } v$$\n",
    "  "
   ]
  },
  {
   "cell_type": "markdown",
   "metadata": {},
   "source": [
    "## Exercise 1: Nonlinear Poisson equation\n",
    "\n",
    "Derive the weak formulation for the non-linear Poisson equation:\n",
    "\n",
    "$$- u_{xx} = u(u-1)  \\quad \\text{on } \\Omega = (0, 1)$$ \n",
    "\n",
    "with the boundary conditions \n",
    "\n",
    "$$u=0 \\quad \\text{at } x=0 \\text{ and } x=1$$.\n"
   ]
  },
  {
   "cell_type": "markdown",
   "metadata": {},
   "source": [
    "## Exercise 2: Neumann boundary conditions\n",
    "\n",
    "Derive the weak formulation for the Poisson equation with \n",
    "\n",
    "$$-u_{xx} = 0  \\quad \\text{on } \\Omega =  (0, 1)$$ \n",
    "\n",
    "with boundary conditions \n",
    "\n",
    "$$u_x=3 \\quad \\text{at } x=0$$\n",
    "$$u_x=-2 \\quad \\text{at } x=1.$$\n",
    "\n",
    "**Hint**: Incorporate the boundary conditions into the weak formulation."
   ]
  },
  {
   "cell_type": "markdown",
   "metadata": {},
   "source": [
    "What is the issue with this problem statement? How would you fix it?"
   ]
  }
 ],
 "metadata": {
  "kernelspec": {
   "display_name": "Python 2",
   "language": "python",
   "name": "python2"
  },
  "language_info": {
   "codemirror_mode": {
    "name": "ipython",
    "version": 2
   },
   "file_extension": ".py",
   "mimetype": "text/x-python",
   "name": "python",
   "nbconvert_exporter": "python",
   "pygments_lexer": "ipython2",
   "version": "2.7.12"
  }
 },
 "nbformat": 4,
 "nbformat_minor": 2
}
