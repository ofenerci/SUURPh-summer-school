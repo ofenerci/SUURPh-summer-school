{
 "cells": [
  {
   "cell_type": "markdown",
   "metadata": {},
   "source": [
    "# Time-dependent PDEs in FEniCS"
   ]
  },
  {
   "cell_type": "markdown",
   "metadata": {},
   "source": [
    "## Time is crucial for many processes"
   ]
  },
  {
   "cell_type": "code",
   "execution_count": 3,
   "metadata": {
    "collapsed": false
   },
   "outputs": [
    {
     "data": {
      "text/html": [
       "<iframe width=\"560\" height=\"315\" src=\"https://www.youtube.com/embed/CCmTY0PKGDs\" frameborder=\"0\" allowfullscreen></iframe>"
      ],
      "text/plain": [
       "<IPython.core.display.HTML object>"
      ]
     },
     "execution_count": 3,
     "metadata": {},
     "output_type": "execute_result"
    }
   ],
   "source": [
    "from IPython.display import HTML\n",
    "HTML('<iframe width=\"560\" height=\"315\" src=\"https://www.youtube.com/embed/CCmTY0PKGDs\" frameborder=\"0\" allowfullscreen></iframe>')"
   ]
  },
  {
   "cell_type": "markdown",
   "metadata": {},
   "source": [
    "## The heat equation is the \"Hello world\" example of a time-dependent PDE"
   ]
  },
  {
   "cell_type": "markdown",
   "metadata": {},
   "source": [
    "We will solve the simplest extension of the Poisson problem into\n",
    "the time domain, the **heat equation**:\n",
    "\n",
    "$$\n",
    "\\frac{\\partial u}{\\partial t} + D u_{xx} = f  \\qquad \\text{ for } x \\in \\Omega \\text{ and for } t \\in [0, T], \\\\\n",
    "u = g  \\qquad \\text{ for } x \\in \\partial \\Omega \\text{ and } t \\in [0, T], \\\\\n",
    "u = u^0 \\qquad \\text{ for } x \\in \\Omega \\text{ and } t = 0.\n",
    "$$\n",
    "\n",
    "with $D \\in \\mathbb R$. $\\Omega$ denotes the spatial domain and $\\partial \\Omega$ the domain boundary. For example for $\\Omega = [-L, L]$, the boundary $\\partial \\Omega$ consists of the two points $-L$ and $L$. We start the simulation at time $t=0$ until the final time $T$.\n",
    "\n",
    "\n",
    "The solution $u = u(x, t)$, the right-hand side $f = f (x, t)$ and the\n",
    "boundary value $g = g(x, t)$ may vary in space $(x)$\n",
    "and time (t). The initial value $u_0$ is a function of space only.\n",
    "\n",
    "Let's see how a 2D solution of this problem looks like:"
   ]
  },
  {
   "cell_type": "code",
   "execution_count": 2,
   "metadata": {
    "collapsed": false
   },
   "outputs": [
    {
     "data": {
      "text/html": [
       "<iframe width=\"560\" height=\"315\" src=\"https://www.youtube.com/embed/TvlIfSlLB0c\" frameborder=\"0\" allowfullscreen></iframe>"
      ],
      "text/plain": [
       "<IPython.core.display.HTML object>"
      ]
     },
     "execution_count": 2,
     "metadata": {},
     "output_type": "execute_result"
    }
   ],
   "source": [
    "## An example solution in 2D\n",
    "from IPython.display import HTML\n",
    "HTML('<iframe width=\"560\" height=\"315\" src=\"https://www.youtube.com/embed/TvlIfSlLB0c\" frameborder=\"0\" allowfullscreen></iframe>')"
   ]
  },
  {
   "cell_type": "markdown",
   "metadata": {},
   "source": [
    "**Question**: Which kind of initial/boundary conditions were used in the above simulation?"
   ]
  },
  {
   "cell_type": "markdown",
   "metadata": {},
   "source": [
    "## Time-discretization of the heat equation\n",
    "\n",
    "FEniCS cannot direct solve time-dependent equations. We therefore must approximate the time-derivative $\\frac{\\partial u}{\\partial t}$, that is discretise in time. This will lead to a sequence of non-time dependent PDEs, which we can solve with FEniCS. \n",
    "\n",
    "\n",
    "Our goal is to compute the solution at a set of discrete time-levels $0 = t^0 < t^1 < ... < T^N = T$. \n",
    "The variables at the n'th time-levels will denoted with a superscript $n$:\n",
    "\n",
    "$$ u^n \\approx u(t^n) \\\\\n",
    "f^n = f(t^n)\n",
    "$$\n",
    "\n",
    "We discretize in time using the **implicit Euler** method.\n",
    "\n",
    "$$ \\frac{\\partial u}{\\partial t} (t^n) \\approx \\frac{u^n - u^{n-1}}{\\Delta t} $$\n",
    "This leads to the semi-discretization of the heat equation (\"semi\"-discretisation because we have discretised in time, but not yet in space):\n",
    "$$\n",
    "u^n - u^{n-1} - u^n_{xx} = \\Delta t f_n \n",
    "$$\n",
    "\n",
    "\n",
    "### Time stepping algorithm for the heat equation\n",
    "\n",
    "1. Start with $u^0$ and choose a timestep ∆t > 0.\n",
    "2. For $n = 1, 2, ...$ solve for $u^n$: \n",
    " \n",
    "   $u^n − \\Delta t u^n_{xx} = u^{n-1} + \\Delta t f^n$"
   ]
  },
  {
   "cell_type": "markdown",
   "metadata": {},
   "source": [
    "## Variational problem for the heat equation\n",
    "\n",
    "To obtain the fully-discretised system, we derive the variational formulation of the semi-discretised system:\n",
    "\n",
    "Find $u^n, n=1, ..., N$ such that \n",
    "$$\n",
    " a(u^n, v) = L^n(v)  \\quad \\text{ for all } v\n",
    "$$\n",
    "where \n",
    "$$\n",
    "  a(u^n, v) = \\int_\\Omega u^nv + \\Delta t u_x v_x \\text{d}x\\\\\n",
    "  L^n(v) = \\int_\\Omega u^{n-1}v + \\Delta t f^nv \\text{d}x\n",
    "$$\n",
    "Note that the bilinear form $a(u, v)$ is constant while the linear\n",
    "form $L^n$ depends on $n$."
   ]
  },
  {
   "cell_type": "markdown",
   "metadata": {},
   "source": [
    "Building a system of linear equations from the weak form\n",
    "----------------------------------------------------------------\n",
    "For sake of semplicity we consider a unit length rod and Dirichlet condition on both ends. We assume that we discretize the rod using 6 points and 5 intervals.\n",
    "\n",
    "Similarly to the stationary case, we can build a linear system from our equation. The main difference is that at each time step this system needs to be solved and the right hand side needs to be updated.\n",
    "\n",
    "On the left had side we have an additional term with respect to the stationary case. Recalling that we decompose $u(x,t)$ as a series $u = \\sum_i u_i(t) \\phi_i(x),$ and that $(\\phi_i)_x$ is $\\frac{x-x_{i-1}}{h}$ between $x_{i-1}$ and $x_i$, $\\frac{x_{i+1}-x}{h}$ between $x_i$ and $x_{i+1}$, and $0$ otherwise. Therefore, $(\\phi_i)_x$ is $\\frac{1}{h}$ between $x_{i-1}$ and $x_i$, $\\frac{-1}{h}$ between $x_i$ and $x_{i+1}$, and $0$ otherwise. So,the integral $$\n",
    "\\int\\limits_0^1 (\\phi_i) \\cdot (\\phi_j) + \\Delta t (\\phi_i)_x \\cdot (\\phi_j)_x \\text{d}x$$\n",
    "is:\n",
    "* $\\frac{2h}{3} + \\frac {2 \\Delta t}{h}$ when $i=j$ \n",
    "* $\\frac{h}{6} - \\frac{\\Delta t} {h}$ when $i = j \\pm 1$ \n",
    "* $0$ when $i, j$ are more than 1 apart. \n",
    "\n",
    "On the right hand side we have to assemble the term $$\\int\\limits_0^1 (u_i^{n-1} + \\Delta t f_i^n) \\phi_i(x)$$ for $i = 2,\\dots,5.$ \n",
    "The integral $\\int\\limits_0^1 \\phi_i(x) = h.$ For $i=0$ and $i = 6$ the solution is given by the boundary conditions.\n",
    "We can put all the terms together in a matrix form.\n",
    "\n",
    " $$\\begin{bmatrix}\n",
    "    1 & 0 & 0 & 0 & 0 & 0 \\\\\n",
    "    \\frac{h}{6} - \\frac{\\Delta t} {h} & \\frac{2h}{3} + \\frac {2 \\Delta t}{h} & \\frac{h}{6} - \\frac{\\Delta t} {h}& 0 & 0 & 0\\\\\n",
    "    0 & \\frac{h}{6} - \\frac{\\Delta t} {h}& \\frac{2h}{3} + \\frac {2 \\Delta t}{h} & \\frac{h}{6} - \\frac{\\Delta t} {h}& 0 & 0 \\\\\n",
    "    0 & 0 & \\frac{h}{6} - \\frac{\\Delta t} {h} & \\frac{2h}{3} + \\frac {2 \\Delta t}{h} & \\frac{h}{6} - \\frac{\\Delta t} {h} & 0 \\\\\n",
    "    0 & 0 & 0 & \\frac{h}{6} - \\frac{\\Delta t} {h} & \\frac{2h}{3} + \\frac {2 \\Delta t}{h} & \\frac{h}{6} - \\frac{\\Delta t} {h} \\\\\n",
    "    0 & 0 & 0 & 0 & 0 & 1\n",
    "\\end{bmatrix}\\begin{bmatrix}\n",
    "    u_0 \\\\[2.2pt]\n",
    "    u_1 \\\\[2.2pt]\n",
    "    u_2 \\\\[2.2pt]\n",
    "    u_3 \\\\[2.2pt]\n",
    "    u_4 \\\\[2.2pt]\n",
    "    u_5\n",
    "\\end{bmatrix} = \\begin{bmatrix}\n",
    "    1 \\\\[2.2pt]\n",
    "    0 \\\\[2.2pt]\n",
    "    0 \\\\[2.2pt]\n",
    "    0 \\\\[2.2pt]\n",
    "    0 \\\\[2.2pt]\n",
    "    0\n",
    "\\end{bmatrix} + \\begin{bmatrix}\n",
    "    0 \\\\[2.2pt]\n",
    "    h (u_1^{n-1} + \\Delta t f_1^{n}) \\\\[2.2pt]\n",
    "    h (u_2^{n-1} + \\Delta t f_2^{n}) \\\\[2.2pt]\n",
    "    h (u_3^{n-1} + \\Delta t f_3^{n}) \\\\[2.2pt]\n",
    "    h (u_4^{n-1} + \\Delta t f_4^{n}) \\\\[2.2pt]\n",
    "    0\n",
    "\\end{bmatrix}$$\n"
   ]
  },
  {
   "cell_type": "markdown",
   "metadata": {},
   "source": [
    "## Detailed time-stepping algorithm for the heat equation\n",
    "\n",
    "The following sceleton shows how to solve a time-dependent problem in FEniCS:\n",
    "\n",
    "* Define the mesh, functions-spaces and Dirichlet boundary conditions\n",
    "* Compute $u_0$ as the projection of the given initial value\n",
    "* Define the forms $a$ and $L$\n",
    "* Assemble the matrix $A$ from the bilinear form $a$\n",
    "* Set $t$ to $\\Delta t$\n",
    "* **while $t < T$ do**\n",
    "    * Assemble the vector $b$ from the linear form $L$\n",
    "    * Apply the boundary condition\n",
    "    * Solve the linear system $AU = b$ for $U$ and store in $u_1$\n",
    "    * Set $t$ to $t + \\Delta t$\n",
    "    * Set $u_0$ to $u_1$ (get ready for next step)\n",
    "* **end while**"
   ]
  },
  {
   "cell_type": "markdown",
   "metadata": {},
   "source": [
    "## Some implementation tipps - let's started with setting up a basic FEniCS environment"
   ]
  },
  {
   "cell_type": "code",
   "execution_count": 8,
   "metadata": {
    "collapsed": false
   },
   "outputs": [
    {
     "ename": "ImportError",
     "evalue": "/home/eleonora/anaconda2/lib/python2.7/site-packages/zmq/backend/cython/../../../../.././libstdc++.so.6: version `CXXABI_1.3.8' not found (required by /home/eleonora/.hashdist/bld/profile/z433m4754yzj/lib/python2.7/site-packages/dolfin/cpp/_common.so)",
     "output_type": "error",
     "traceback": [
      "\u001b[0;31m---------------------------------------------------------------------------\u001b[0m",
      "\u001b[0;31mImportError\u001b[0m                               Traceback (most recent call last)",
      "\u001b[0;32m<ipython-input-8-08c57bc8cb3d>\u001b[0m in \u001b[0;36m<module>\u001b[0;34m()\u001b[0m\n\u001b[1;32m      1\u001b[0m \u001b[0mget_ipython\u001b[0m\u001b[0;34m(\u001b[0m\u001b[0;34m)\u001b[0m\u001b[0;34m.\u001b[0m\u001b[0mmagic\u001b[0m\u001b[0;34m(\u001b[0m\u001b[0;34mu'matplotlib inline'\u001b[0m\u001b[0;34m)\u001b[0m\u001b[0;34m\u001b[0m\u001b[0m\n\u001b[0;32m----> 2\u001b[0;31m \u001b[0;32mfrom\u001b[0m \u001b[0mfenics\u001b[0m \u001b[0;32mimport\u001b[0m \u001b[0;34m*\u001b[0m\u001b[0;34m\u001b[0m\u001b[0m\n\u001b[0m\u001b[1;32m      3\u001b[0m \u001b[0;32mimport\u001b[0m \u001b[0mpylab\u001b[0m\u001b[0;34m\u001b[0m\u001b[0m\n\u001b[1;32m      4\u001b[0m \u001b[0mparameters\u001b[0m\u001b[0;34m[\u001b[0m\u001b[0;34m'plotting_backend'\u001b[0m\u001b[0;34m]\u001b[0m \u001b[0;34m=\u001b[0m \u001b[0;34m'matplotlib'\u001b[0m\u001b[0;34m\u001b[0m\u001b[0m\n\u001b[1;32m      5\u001b[0m \u001b[0;34m\u001b[0m\u001b[0m\n",
      "\u001b[0;32m/home/eleonora/.hashdist/bld/profile/z433m4754yzj/lib/python2.7/site-packages/fenics/__init__.py\u001b[0m in \u001b[0;36m<module>\u001b[0;34m()\u001b[0m\n\u001b[1;32m      5\u001b[0m \"\"\"\n\u001b[1;32m      6\u001b[0m \u001b[0;34m\u001b[0m\u001b[0m\n\u001b[0;32m----> 7\u001b[0;31m \u001b[0;32mfrom\u001b[0m \u001b[0mdolfin\u001b[0m \u001b[0;32mimport\u001b[0m \u001b[0;34m*\u001b[0m\u001b[0;34m\u001b[0m\u001b[0m\n\u001b[0m",
      "\u001b[0;32m/home/eleonora/.hashdist/bld/profile/z433m4754yzj/lib/python2.7/site-packages/dolfin/__init__.py\u001b[0m in \u001b[0;36m<module>\u001b[0;34m()\u001b[0m\n\u001b[1;32m     15\u001b[0m \u001b[0;34m\u001b[0m\u001b[0m\n\u001b[1;32m     16\u001b[0m \u001b[0;31m# Import names from the compiled cpp modules\u001b[0m\u001b[0;34m\u001b[0m\u001b[0;34m\u001b[0m\u001b[0m\n\u001b[0;32m---> 17\u001b[0;31m \u001b[0;32mfrom\u001b[0m \u001b[0;34m.\u001b[0m \u001b[0;32mimport\u001b[0m \u001b[0mcpp\u001b[0m\u001b[0;34m\u001b[0m\u001b[0m\n\u001b[0m\u001b[1;32m     18\u001b[0m \u001b[0;32mfrom\u001b[0m \u001b[0mdolfin\u001b[0m\u001b[0;34m.\u001b[0m\u001b[0mcpp\u001b[0m \u001b[0;32mimport\u001b[0m \u001b[0;34m*\u001b[0m\u001b[0;34m\u001b[0m\u001b[0m\n\u001b[1;32m     19\u001b[0m \u001b[0;32mfrom\u001b[0m \u001b[0mdolfin\u001b[0m\u001b[0;34m.\u001b[0m\u001b[0mcpp\u001b[0m \u001b[0;32mimport\u001b[0m \u001b[0m__version__\u001b[0m\u001b[0;34m,\u001b[0m \u001b[0m__swigversion__\u001b[0m\u001b[0;34m,\u001b[0m \u001b[0m__pythonversion__\u001b[0m\u001b[0;34m\u001b[0m\u001b[0m\n",
      "\u001b[0;32m/home/eleonora/.hashdist/bld/profile/z433m4754yzj/lib/python2.7/site-packages/dolfin/cpp/__init__.py\u001b[0m in \u001b[0;36m<module>\u001b[0;34m()\u001b[0m\n\u001b[1;32m     41\u001b[0m \u001b[0;34m\u001b[0m\u001b[0m\n\u001b[1;32m     42\u001b[0m     \u001b[0;31m# Import the module\u001b[0m\u001b[0;34m\u001b[0m\u001b[0;34m\u001b[0m\u001b[0m\n\u001b[0;32m---> 43\u001b[0;31m     \u001b[0;32mexec\u001b[0m\u001b[0;34m(\u001b[0m\u001b[0;34m\"from . import %s\"\u001b[0m \u001b[0;34m%\u001b[0m \u001b[0mmodule_name\u001b[0m\u001b[0;34m)\u001b[0m\u001b[0;34m\u001b[0m\u001b[0m\n\u001b[0m\u001b[1;32m     44\u001b[0m     \u001b[0mmodule\u001b[0m \u001b[0;34m=\u001b[0m \u001b[0mglobals\u001b[0m\u001b[0;34m(\u001b[0m\u001b[0;34m)\u001b[0m\u001b[0;34m[\u001b[0m\u001b[0mmodule_name\u001b[0m\u001b[0;34m]\u001b[0m\u001b[0;34m\u001b[0m\u001b[0m\n\u001b[1;32m     45\u001b[0m \u001b[0;34m\u001b[0m\u001b[0m\n",
      "\u001b[0;32m<string>\u001b[0m in \u001b[0;36m<module>\u001b[0;34m()\u001b[0m\n",
      "\u001b[0;32m/home/eleonora/.hashdist/bld/profile/z433m4754yzj/lib/python2.7/site-packages/dolfin/cpp/common.py\u001b[0m in \u001b[0;36m<module>\u001b[0;34m()\u001b[0m\n\u001b[1;32m     30\u001b[0m                 \u001b[0mfp\u001b[0m\u001b[0;34m.\u001b[0m\u001b[0mclose\u001b[0m\u001b[0;34m(\u001b[0m\u001b[0;34m)\u001b[0m\u001b[0;34m\u001b[0m\u001b[0m\n\u001b[1;32m     31\u001b[0m             \u001b[0;32mreturn\u001b[0m \u001b[0m_mod\u001b[0m\u001b[0;34m\u001b[0m\u001b[0m\n\u001b[0;32m---> 32\u001b[0;31m     \u001b[0m_common\u001b[0m \u001b[0;34m=\u001b[0m \u001b[0mswig_import_helper\u001b[0m\u001b[0;34m(\u001b[0m\u001b[0;34m)\u001b[0m\u001b[0;34m\u001b[0m\u001b[0m\n\u001b[0m\u001b[1;32m     33\u001b[0m     \u001b[0;32mdel\u001b[0m \u001b[0mswig_import_helper\u001b[0m\u001b[0;34m\u001b[0m\u001b[0m\n\u001b[1;32m     34\u001b[0m \u001b[0;32melse\u001b[0m\u001b[0;34m:\u001b[0m\u001b[0;34m\u001b[0m\u001b[0m\n",
      "\u001b[0;32m/home/eleonora/.hashdist/bld/profile/z433m4754yzj/lib/python2.7/site-packages/dolfin/cpp/common.py\u001b[0m in \u001b[0;36mswig_import_helper\u001b[0;34m()\u001b[0m\n\u001b[1;32m     26\u001b[0m         \u001b[0;32mif\u001b[0m \u001b[0mfp\u001b[0m \u001b[0;32mis\u001b[0m \u001b[0;32mnot\u001b[0m \u001b[0mNone\u001b[0m\u001b[0;34m:\u001b[0m\u001b[0;34m\u001b[0m\u001b[0m\n\u001b[1;32m     27\u001b[0m             \u001b[0;32mtry\u001b[0m\u001b[0;34m:\u001b[0m\u001b[0;34m\u001b[0m\u001b[0m\n\u001b[0;32m---> 28\u001b[0;31m                 \u001b[0m_mod\u001b[0m \u001b[0;34m=\u001b[0m \u001b[0mimp\u001b[0m\u001b[0;34m.\u001b[0m\u001b[0mload_module\u001b[0m\u001b[0;34m(\u001b[0m\u001b[0;34m'_common'\u001b[0m\u001b[0;34m,\u001b[0m \u001b[0mfp\u001b[0m\u001b[0;34m,\u001b[0m \u001b[0mpathname\u001b[0m\u001b[0;34m,\u001b[0m \u001b[0mdescription\u001b[0m\u001b[0;34m)\u001b[0m\u001b[0;34m\u001b[0m\u001b[0m\n\u001b[0m\u001b[1;32m     29\u001b[0m             \u001b[0;32mfinally\u001b[0m\u001b[0;34m:\u001b[0m\u001b[0;34m\u001b[0m\u001b[0m\n\u001b[1;32m     30\u001b[0m                 \u001b[0mfp\u001b[0m\u001b[0;34m.\u001b[0m\u001b[0mclose\u001b[0m\u001b[0;34m(\u001b[0m\u001b[0;34m)\u001b[0m\u001b[0;34m\u001b[0m\u001b[0m\n",
      "\u001b[0;31mImportError\u001b[0m: /home/eleonora/anaconda2/lib/python2.7/site-packages/zmq/backend/cython/../../../../.././libstdc++.so.6: version `CXXABI_1.3.8' not found (required by /home/eleonora/.hashdist/bld/profile/z433m4754yzj/lib/python2.7/site-packages/dolfin/cpp/_common.so)"
     ]
    }
   ],
   "source": [
    "%matplotlib inline\n",
    "from fenics import *\n",
    "import pylab\n",
    "parameters['plotting_backend'] = 'matplotlib'\n",
    "\n",
    "mesh = UnitIntervalMesh(100)\n",
    "V = FunctionSpace(mesh, \"CG\", 1)"
   ]
  },
  {
   "cell_type": "markdown",
   "metadata": {},
   "source": [
    "## Handling time-dependent expressions\n",
    "\n",
    "We need to define a time-dependent expression for the boundary value:"
   ]
  },
  {
   "cell_type": "code",
   "execution_count": 4,
   "metadata": {
    "collapsed": true
   },
   "outputs": [],
   "source": [
    "alpha = 3\n",
    "beta = 1.2\n",
    "g = Expression (\"1+alpha*x[0]*x[0]+beta*t\", \n",
    "                alpha=alpha , beta=beta , t=0, degree=2)"
   ]
  },
  {
   "cell_type": "markdown",
   "metadata": {},
   "source": [
    "Updating parameter values:"
   ]
  },
  {
   "cell_type": "code",
   "execution_count": 5,
   "metadata": {
    "collapsed": true
   },
   "outputs": [],
   "source": [
    "g.t = 2.0"
   ]
  },
  {
   "cell_type": "markdown",
   "metadata": {},
   "source": [
    "## Projection and interpolation\n",
    "\n",
    "We need to project the initial value into a `fenics.Function`:"
   ]
  },
  {
   "cell_type": "code",
   "execution_count": 6,
   "metadata": {
    "collapsed": false
   },
   "outputs": [
    {
     "data": {
      "text/plain": [
       "(3, 7)"
      ]
     },
     "execution_count": 6,
     "metadata": {},
     "output_type": "execute_result"
    },
    {
     "data": {
      "image/png": "[encoded data removed]",
      "text/plain": [
       "<matplotlib.figure.Figure at 0x7fcca31f1710>"
      ]
     },
     "metadata": {},
     "output_type": "display_data"
    }
   ],
   "source": [
    "u0 = project(g, V)\n",
    "p = plot(u0)\n",
    "# The next two lines are required to plot the function correctly\n",
    "p[0].axes.set_xlim([0, 1])\n",
    "p[0].axes.set_ylim([3, 7])"
   ]
  },
  {
   "cell_type": "markdown",
   "metadata": {},
   "source": [
    "We can also interpolate the initial value:"
   ]
  },
  {
   "cell_type": "code",
   "execution_count": 7,
   "metadata": {
    "collapsed": false
   },
   "outputs": [
    {
     "data": {
      "text/plain": [
       "(3, 7)"
      ]
     },
     "execution_count": 7,
     "metadata": {},
     "output_type": "execute_result"
    },
    {
     "data": {
      "image/png": "[encoded data removed]",
      "text/plain": [
       "<matplotlib.figure.Figure at 0x7fcca31c2fd0>"
      ]
     },
     "metadata": {},
     "output_type": "display_data"
    }
   ],
   "source": [
    "u0 = interpolate (g, V)\n",
    "p = plot(u0)\n",
    "p[0].axes.set_xlim([0, 1])\n",
    "p[0].axes.set_ylim([3, 7])"
   ]
  },
  {
   "cell_type": "markdown",
   "metadata": {},
   "source": [
    "## A closer look at solve\n",
    "\n",
    "For linear problems, this code Python code\n",
    "```python\n",
    "solve(a == L, u, bcs)\n",
    "```\n",
    "is equivalent to this\n",
    "```python \n",
    "# Assembling a bilinear form yields a matrix\n",
    "A = assemble(a)\n",
    "# Assembling a linear form yields a vector\n",
    "b = assemble(L)\n",
    "# Applying boundary condition info to system\n",
    "for bc in bcs:\n",
    "    bc.apply(A , b)\n",
    "    # Solve Ax = b\n",
    "    solve (A, u.vector(), b)\n",
    "```"
   ]
  },
  {
   "cell_type": "markdown",
   "metadata": {},
   "source": [
    "## Implementing the variational problem"
   ]
  },
  {
   "cell_type": "code",
   "execution_count": 4,
   "metadata": {
    "collapsed": false
   },
   "outputs": [
    {
     "ename": "NameError",
     "evalue": "name 'project' is not defined",
     "output_type": "error",
     "traceback": [
      "\u001b[0;31m---------------------------------------------------------------------------\u001b[0m",
      "\u001b[0;31mNameError\u001b[0m                                 Traceback (most recent call last)",
      "\u001b[0;32m<ipython-input-4-ff26ed10d5c6>\u001b[0m in \u001b[0;36m<module>\u001b[0;34m()\u001b[0m\n\u001b[1;32m      3\u001b[0m \u001b[0;34m\u001b[0m\u001b[0m\n\u001b[1;32m      4\u001b[0m \u001b[0;31m# Project the intial condition\u001b[0m\u001b[0;34m\u001b[0m\u001b[0;34m\u001b[0m\u001b[0m\n\u001b[0;32m----> 5\u001b[0;31m \u001b[0mu0\u001b[0m \u001b[0;34m=\u001b[0m \u001b[0mproject\u001b[0m \u001b[0;34m(\u001b[0m\u001b[0mg\u001b[0m\u001b[0;34m,\u001b[0m \u001b[0mV\u001b[0m\u001b[0;34m)\u001b[0m\u001b[0;34m\u001b[0m\u001b[0m\n\u001b[0m\u001b[1;32m      6\u001b[0m \u001b[0;34m\u001b[0m\u001b[0m\n\u001b[1;32m      7\u001b[0m \u001b[0;31m# Define a variable to store the solution at the previous time-step\u001b[0m\u001b[0;34m\u001b[0m\u001b[0;34m\u001b[0m\u001b[0m\n",
      "\u001b[0;31mNameError\u001b[0m: name 'project' is not defined"
     ]
    }
   ],
   "source": [
    "# The time-step\n",
    "dt = 0.3\n",
    "\n",
    "# Project the intial condition\n",
    "u0 = project (g, V)\n",
    "\n",
    "# Define a variable to store the solution at the previous time-step\n",
    "u1 = Function(V)\n",
    "\n",
    "# Define a source term\n",
    "f = Constant(beta-2-2*alpha)\n",
    "\n",
    "# Define the Dirichlet boundary condition\n",
    "bc = DirichletBC (V, g, \"on_boundary\")\n",
    "\n",
    "# Code the variational formulation\n",
    "u = TrialFunction(V)\n",
    "v = TestFunction(V)\n",
    "a = u*v*dx + dt*inner(grad(u), grad(v))*dx\n",
    "L = u0*v*dx + dt*f*v*dx\n",
    "\n",
    "# assemble only once , before time-stepping\n",
    "A = assemble(a)\n",
    "#verify that the assembled matrix actually looks as the one we showed before\n",
    "print(A.array())\n",
    "h = mesh.hmax()\n",
    "print(\"h/6 - dt/h = \", h/6.0 - dt/h)\n",
    "print(\"2h/3 + 2dt/h = \", 2*h/3.0 + 2*dt/h)"
   ]
  },
  {
   "cell_type": "markdown",
   "metadata": {},
   "source": [
    "## Implementing the time-stepping loop"
   ]
  },
  {
   "cell_type": "code",
   "execution_count": 9,
   "metadata": {
    "collapsed": false
   },
   "outputs": [
    {
     "data": {
      "image/png": "[encoded data removed]",
      "text/plain": [
       "<matplotlib.figure.Figure at 0x7fcca006df10>"
      ]
     },
     "metadata": {},
     "output_type": "display_data"
    }
   ],
   "source": [
    "# Implement the time-loop\n",
    "T = 2\n",
    "t = dt\n",
    "while t <= T:\n",
    "    # Assemble the right hand side of the system (this changes at every timestep)\n",
    "    b = assemble(L)\n",
    "    \n",
    "    # Update the time-level of the boundary expression\n",
    "    g.t = t\n",
    "    \n",
    "    # Apply the boundary condition to the left and right hand side\n",
    "    bc.apply(A, b)\n",
    "    \n",
    "    # Solve the linear system\n",
    "    solve(A, u1.vector(), b)\n",
    "    \n",
    "    # Get ready for the next time-step\n",
    "    t += dt\n",
    "    u0.assign(u1)\n",
    "    \n",
    "    # Plot the solution\n",
    "    p = plot(u0, label='t={}'.format(t))\n",
    "    p[0].axes.set_xlim([0, 1])\n",
    "    p[0].axes.set_ylim([0, 7])\n",
    "    pylab.legend()"
   ]
  },
  {
   "cell_type": "markdown",
   "metadata": {},
   "source": [
    "## The cable equations\n",
    "\n",
    "The standard cable equation is a reaction-diffusion equation given by\n",
    "$$\n",
    "\\frac{\\partial u}{\\partial t}  = \\sigma u_{xx} + f(u, s)\n",
    "$$\n",
    "where $f(u, s)$ is a reaction term describing ionic fluxes across\n",
    "the membrane.\n",
    "* A linear $f(u)$ describes passive conductance through a leaky cable (dendrites).\n",
    "* A cubic $f(u)$ gives the bistable equation with a propagating activation front.\n",
    "* In general $f(u, s)$, where s is a vector describing the state of the cell membrane, typically governed by a system of ODEs."
   ]
  },
  {
   "cell_type": "markdown",
   "metadata": {},
   "source": [
    "## FEniCS challenge 1"
   ]
  },
  {
   "cell_type": "markdown",
   "metadata": {},
   "source": [
    "Solve the linear, bistable cable equation on an interval $\\Omega=[-L, L]$ in FEniCS \n",
    "$$\n",
    "\\frac{\\partial u}{\\partial t} = \\sigma u_{xx} + f(u) \\quad \\text{ for } -L < x < L, \\\\\n",
    "u_x = 0 \\quad \\text{ for } x = -L \\text{ and } x = L,\n",
    "$$\n",
    "with \n",
    "* $f(u) = Au$,\n",
    "* $A = -0.1$,\n",
    "* $\\sigma = 1.0$,\n",
    "* $L = 100$.\n",
    "\n",
    "Implement an implicit Euler time-stepping scheme and solve the problem from $t=0$ to $T=250$ with a timestep of $dt=2.5$. Use as initial condition\n",
    "\n",
    "$$\n",
    "\\frac{1}{2} (1-\\tanh(\\sqrt{A/8\\sigma)}(x+0.75L)))\n",
    "$$\n",
    "Create a plot of the solution on every 10th time-step. What happens if you change the value and sign of A? "
   ]
  }
 ],
 "metadata": {
  "kernelspec": {
   "display_name": "Python 2",
   "language": "python",
   "name": "python2"
  },
  "language_info": {
   "codemirror_mode": {
    "name": "ipython",
    "version": 2
   },
   "file_extension": ".py",
   "mimetype": "text/x-python",
   "name": "python",
   "nbconvert_exporter": "python",
   "pygments_lexer": "ipython2",
   "version": "2.7.13"
  }
 },
 "nbformat": 4,
 "nbformat_minor": 2
}
