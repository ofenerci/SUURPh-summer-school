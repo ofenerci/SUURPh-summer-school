{
 "cells": [
  {
   "cell_type": "markdown",
   "metadata": {},
   "source": [
    "# Nonlinear time-dependent PDEs in FEniCS"
   ]
  },
  {
   "cell_type": "markdown",
   "metadata": {},
   "source": [
    "We can consider the **time-dependent heat equation** with a forcing term $f(u)$ that is **nonlinear** in the unknown $u$. The equations read as follows:\n",
    "\n",
    "$$\n",
    "\\frac{\\partial u}{\\partial t} + u_{xx} = f(u)  \\qquad \\text{ for } x \\in \\Omega \\text{ and for } t \\in [0, T], \\\\\n",
    "u = g  \\qquad \\text{ for } x \\in \\partial \\Omega \\text{ and } t \\in [0, T], \\\\\n",
    "u = u^0 \\qquad \\text{ for } x \\in \\Omega \\text{ and } t = 0.\n",
    "$$\n",
    "$\\Omega$ denotes the spatial domain and $\\partial \\Omega$ the domain boundary. For example for $\\Omega = [-L, L]$, the boundary $\\partial \\Omega$ consists of the two points $-L$ and $L$. We start the simulation at time $t=0$ until the final time $T$.\n",
    "\n",
    "The solution $u = u(x, t)$, the right-hand side $f = f (u(x, t))$ can be any nonlinear expression function of $u,$ and the boundary value $g = g(x, t)$ may vary in space $(x)$ and time (t). The initial value $u_0$ is a function of space only.\n"
   ]
  },
  {
   "cell_type": "markdown",
   "metadata": {},
   "source": [
    "# Newton's method can be used to linearize and solve the equation"
   ]
  },
  {
   "cell_type": "code",
   "execution_count": 5,
   "metadata": {
    "collapsed": false
   },
   "outputs": [
    {
     "data": {
      "text/html": [
       "<a title=\"By Ralf Pfeifer (de:Image:NewtonIteration Ani.gif) [GFDL (http://www.gnu.org/copyleft/fdl.html) or CC-BY-SA-3.0 (http://creativecommons.org/licenses/by-sa/3.0/)], via Wikimedia Commons\" href=\"https://commons.wikimedia.org/wiki/File%3ANewtonIteration_Ani.gif\"><img width=\"512\" alt=\"NewtonIteration Ani\" src=\"https://upload.wikimedia.org/wikipedia/commons/e/e0/NewtonIteration_Ani.gif\"/></a>"
      ],
      "text/plain": [
       "<IPython.core.display.HTML object>"
      ]
     },
     "execution_count": 5,
     "metadata": {},
     "output_type": "execute_result"
    }
   ],
   "source": [
    "from IPython.display import HTML\n",
    "HTML('<a title=\"By Ralf Pfeifer (de:Image:NewtonIteration Ani.gif) [GFDL (http://www.gnu.org/copyleft/fdl.html) or CC-BY-SA-3.0 (http://creativecommons.org/licenses/by-sa/3.0/)], via Wikimedia Commons\" href=\"https://commons.wikimedia.org/wiki/File%3ANewtonIteration_Ani.gif\"><img width=\"512\" alt=\"NewtonIteration Ani\" src=\"https://upload.wikimedia.org/wikipedia/commons/e/e0/NewtonIteration_Ani.gif\"/></a>')"
   ]
  },
  {
   "cell_type": "markdown",
   "metadata": {},
   "source": [
    "At each time step we have the semidiscretized equation to solve:\n",
    "\n",
    "$$F(x) = u^n − \\Delta t u^n_{xx} - u^{n-1} - \\Delta t f^n = 0,$$\n",
    "for $n=1,\\dots, N.$\n",
    "\n",
    "Since $f(u)$ is a non linear expression of $u$ we need to define a method to linearize the equation. For example, we can use the **Newton's method**.\n",
    "Newton's method is an iterative method. If we call $k$ the number of iterations, we can summarize the method's steps as follows:\n",
    "\n",
    "For $k==0$: assign a suitable initial guess for $u^n.$\n",
    "\n",
    "While $k < k_{max}$\n",
    "\n",
    "1. Solve $ u^n_k = u^n_{k-1}-\\frac{F(u^n_{k-1})}{F'(u^n_{k-1})}$\n",
    "2. if $F(u^n_k) \\: \\text{or} \\: \\|u^n_k - u^n_{k-1}\\| < \\text{toll}$:\n",
    "    3. break\n",
    "3. else:\n",
    "    4. $k +=1$\n",
    "    5. Repeat 1. and 2.  \n",
    "    \n",
    "The scheme converges when the criteria 2. is satisfied. If this does not happen and the maximum number of iteration is reached the scheme did not converge.\n",
    "\n",
    "Newton's method converges with second order accuracy and only if the initial guess is \"close enough\" to the solution.\n",
    "        "
   ]
  },
  {
   "cell_type": "markdown",
   "metadata": {},
   "source": [
    "## Some implementation tips"
   ]
  },
  {
   "cell_type": "markdown",
   "metadata": {},
   "source": [
    "If you use FEniCS you do not need to implement a Newton's scheme since it is already implemented!\n",
    "\n",
    "Anyway, there are few differences compared to the linear case in the syntax."
   ]
  },
  {
   "cell_type": "code",
   "execution_count": null,
   "metadata": {
    "collapsed": false
   },
   "outputs": [],
   "source": [
    "%matplotlib inline\n",
    "from fenics import *\n",
    "import pylab\n",
    "parameters['plotting_backend'] = 'matplotlib'\n",
    "\n",
    "def f(u):\n",
    "    return u*u\n",
    "\n",
    "mesh = UnitIntervalMesh(100)\n",
    "V = FunctionSpace(mesh, \"CG\", 1)\n",
    "u = Function(V)\n",
    "u0 = Function(V)\n",
    "v = TestFunction(V)\n",
    "bc = [DirichletBC(V, 0.0, \"x[0]==0.0 && on_boundary\"),\n",
    "      DirichletBC(V, 1.0, \"x[0]==1.0 && on_boundary\")]\n",
    "\n",
    "a = u/dt*v*dx + inner(grad(u), grad(v))*dx\n",
    "L = u0/dt*v*dx + f(u)*v*dx\n",
    "\n",
    "F = a-L"
   ]
  },
  {
   "cell_type": "markdown",
   "metadata": {},
   "source": [
    "In this case, we do not define a Trial Function but only a Function. Both the left and the right hand side change at every timestep. Therefore, it is not possible to assemble the matrix before the time loop unlike the linear case. In addition, the form needs to be written such that everything is on the left hand side (F==0) "
   ]
  },
  {
   "cell_type": "code",
   "execution_count": null,
   "metadata": {
    "collapsed": true
   },
   "outputs": [],
   "source": [
    "while t<=T:\n",
    "    t +=dt\n",
    "    solve(F==0, u, bc)\n",
    "    u0.assign(u)\n",
    "    plot(u)\n",
    "    interactive()"
   ]
  },
  {
   "cell_type": "markdown",
   "metadata": {},
   "source": [
    "## FEniCS challenge 2\n",
    "Adapt the solution of FEniCS challenge 1 to solve the bistable cable equation with a cubic f:\n",
    "* $f(u) = Au(1-u)(u-\\alpha)$,\n",
    "* $\\alpha = 0.1$,\n",
    "* $A = 1.0$.\n",
    "\n",
    "The other parameters are as before.\n",
    "\n"
   ]
  }
 ],
 "metadata": {
  "kernelspec": {
   "display_name": "Python 2",
   "language": "python",
   "name": "python2"
  },
  "language_info": {
   "codemirror_mode": {
    "name": "ipython",
    "version": 2
   },
   "file_extension": ".py",
   "mimetype": "text/x-python",
   "name": "python",
   "nbconvert_exporter": "python",
   "pygments_lexer": "ipython2",
   "version": "2.7.13"
  }
 },
 "nbformat": 4,
 "nbformat_minor": 2
}
