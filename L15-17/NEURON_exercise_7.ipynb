{
 "cells": [
  {
   "cell_type": "markdown",
   "metadata": {},
   "source": [
    "Exercise 7: Excitatory synaptic connection between two neurons"
   ]
  },
  {
   "cell_type": "code",
   "execution_count": null,
   "metadata": {},
   "outputs": [],
   "source": [
    "#Import the python libraries\n",
    "import matplotlib.pyplot as plt\n",
    "plt.ion()\n",
    "from neuron import h\n",
    "import numpy\n",
    "import time\n",
    "from ipywidgets import widgets, fixed, Layout\n"
   ]
  },
  {
   "cell_type": "code",
   "execution_count": 2,
   "metadata": {},
   "outputs": [
    {
     "data": {
      "text/html": [
       "<style type='text/css'>\n",
       ".widget-inline-hbox .widget-label {\n",
       "      max-width: 250px;\n",
       "      min-width: 250px;\n",
       "}\n",
       "</style>"
      ],
      "text/plain": [
       "<IPython.core.display.HTML object>"
      ]
     },
     "metadata": {},
     "output_type": "display_data"
    }
   ],
   "source": [
    "%%html\n",
    "<style type='text/css'>\n",
    ".widget-inline-hbox .widget-label {\n",
    "      max-width: 250px;\n",
    "      min-width: 250px;\n",
    "}\n",
    "</style>"
   ]
  },
  {
   "cell_type": "code",
   "execution_count": 3,
   "metadata": {
    "collapsed": true
   },
   "outputs": [],
   "source": [
    "### Run NEURON with Python interface\n",
    "def runneuron(isadaptive=True,amp=0.12,dur=10,amp2=1.0,stimcomp=1,stimx=0.5,tau1=0.5,tau2=20.0,glsoma=0.03,gldend=0.03,Ra=100,cm=1.0):\n",
    "    my_start_time = time.time()\n",
    "    h.load_file(\"stdlib.hoc\")                        #A default NEURON library\n",
    "    h.load_file(\"stdrun.hoc\")                        #A default NEURON library\n",
    "\n",
    "    h('objref cvode')                                #Define an object cvode\n",
    "    h('cvode = new CVode()')                         #Make cvode a time step integrator object\n",
    "    h('cvode.active('+str(isadaptive*1)+')')         #Set the variable time step integration on/off\n",
    "\n",
    "    h('create soma, dend[3]')                        #Create soma and three dendritic sections\n",
    "\n",
    "    h.dend[0].connect(h.soma,1,0)                    #Connect the sections to each other\n",
    "    h.dend[1].connect(h.soma,1,0)\n",
    "    h.dend[2].connect(h.dend[0],1,0)\n",
    "\n",
    "    h('access soma')                                 #Make soma the currently accessed section\n",
    "\n",
    "    h('create soma2, dend2[3]')                      #Create soma and three dendritic sections\n",
    "    h.dend2[0].connect(h.soma2,1,0)                    #Connect the sections to each other\n",
    "    h.dend2[1].connect(h.soma2,1,0)\n",
    "    h.dend2[2].connect(h.dend2[0],1,0)\n",
    "    stimtextdict = {0: h.soma2, 1: h.dend2[0], 2: h.dend2[1], 3: h.dend2[2]}\n",
    "    stimnamedict = {0: 'soma2', 1: 'dend2[0]', 2: 'dend2[1]', 3: 'dend2[2]'}\n",
    "\n",
    "    for sec in [h.dend[0], h.dend[1], h.dend[2], h.dend2[0], h.dend2[1], h.dend2[2]]:\n",
    "        sec.insert('pas')                            #Insert passive membrane mechanism to all sections\n",
    "        sec.nseg = 5                                 #and use 5 sub-compartments for each section\n",
    "    for sec in [h.soma, h.soma2]:\n",
    "        sec.insert('hh')                              #Insert the Hodgkin-Huxley mechanism (includes leak) to soma\n",
    "        sec.nseg = 5                                  \n",
    "\n",
    "    #Set the passive parameters for each section:\n",
    "    h.soma.Ra = Ra; h.soma.cm = cm; h.soma.diam = 10; h.soma.L = 20; h.soma.gl_hh = 0.001*glsoma\n",
    "    h.dend[0].Ra = Ra; h.dend[0].cm = cm; h.dend[0].diam = 5; h.dend[0].L = 200; h.dend[0].e_pas = -54.3; h.dend[0].g_pas = 0.001*gldend\n",
    "    h.dend[1].Ra = Ra; h.dend[1].cm = cm; h.dend[1].diam = 2; h.dend[1].L = 100; h.dend[1].e_pas = -54.3; h.dend[1].g_pas = 0.001*gldend\n",
    "    h.dend[2].Ra = Ra; h.dend[2].cm = cm; h.dend[2].diam = 2; h.dend[2].L = 160; h.dend[2].e_pas = -54.3; h.dend[2].g_pas = 0.001*gldend\n",
    "    h.soma2.Ra = Ra; h.soma2.cm = cm; h.soma2.diam = 10; h.soma2.L = 20; h.soma2.gl_hh = 0.001*glsoma\n",
    "    h.dend2[0].Ra = Ra; h.dend2[0].cm = cm; h.dend2[0].diam = 5; h.dend2[0].L = 200; h.dend2[0].e_pas = -54.3; h.dend2[0].g_pas = 0.001*gldend\n",
    "    h.dend2[1].Ra = Ra; h.dend2[1].cm = cm; h.dend2[1].diam = 2; h.dend2[1].L = 100; h.dend2[1].e_pas = -54.3; h.dend2[1].g_pas = 0.001*gldend\n",
    "    h.dend2[2].Ra = Ra; h.dend2[2].cm = cm; h.dend2[2].diam = 2; h.dend2[2].L = 160; h.dend2[2].e_pas = -54.3; h.dend2[2].g_pas = 0.001*gldend\n",
    "\n",
    "    h.dt = 0.025                                     #Set the time step to 0.025 ms\n",
    "    h.tstop = 300                                    #Continue the simulation until 200 ms\n",
    "\n",
    "    h('objref stim, syn1, Vrec')                     #Declare stimulation objects and Vrec\n",
    "\n",
    "    h.stim = h.IClamp(0.5, sec = h.soma)             #Make stim an IClamp object, stimulating center (0.5) of soma\n",
    "    h.stim.delay = 100                               #Stimulation starts at 100 ms\n",
    "    h.stim.dur = dur                                 #and lasts 10 ms (by default)\n",
    "    h.stim.amp = amp                                 #and has a given amplitude (default 0.075 nA)\n",
    "\n",
    "    #Make syn1 an Exp2Syn object, stimulating at a given location of a given compartment\n",
    "    h(stimnamedict[stimcomp]+' syn1 = new Exp2Syn('+str(stimx)+')')\n",
    "    h.syn1.tau1 = tau1                               #Synaptic stimulation has given rise and\n",
    "    h.syn1.tau2 = tau2                               #decay time constants\n",
    "    h.syn1.e = 0                                     #Reversal potential 0 mV (glutamatergic)\n",
    "    h(\"\"\"\n",
    "objref nc, nilstim, fih                              //Declare objects nc and nilstim and fih\n",
    "soma nc = new NetCon(&v(0.5), syn1)                  //Make nc a NetCon object that activates syn1 whenever soma.v(0.5) crosses a threshold\n",
    "nc.threshold = -30                                   //set threshold to -25 mV\n",
    "nc.weight = \"\"\"+str(0.001*amp2)+\"\"\"                  //Maximal synaptic conductance amp (default 1 nS (0.001 uS))                          \n",
    "//fih = new FInitializeHandler(\"nc.event(100)\")      //Make fih an event handler that makes syn1 activate at 100 ms always at initialization\n",
    "\"\"\")\n",
    "\n",
    "    Vrec = h.Vector()                                #Record somatic membrane potentials and time\n",
    "    Vrec.record(h.soma(0.5)._ref_v, sec=h.soma)\n",
    "    Vrec2 = h.Vector()                               \n",
    "    Vrec2.record(h.soma2(0.5)._ref_v, sec=h.soma)\n",
    "    trec = h.Vector()\n",
    "    trec.record(h._ref_t)\n",
    "    \n",
    "    h.init()                                         #Initialize state variables\n",
    "    h.run()                                          #Run the simulations\n",
    "\n",
    "    plt.close(\"all\")\n",
    "    f, axs = plt.subplots(2, 1, sharey=False)\n",
    "    axs[0].plot(trec,Vrec)\n",
    "    axs[1].plot(trec,Vrec2)\n",
    "    for i in range(0,2):\n",
    "        axs[i].set_title('soma-'+str(i+1))\n",
    "        axs[i].set_xlim([0, 300])\n",
    "        axs[i].set_ylim([-80, 40])\n",
    "        axs[i].set_ylabel('$V_m(t)$ (mV)')\n",
    "    plt.suptitle(\"Simulation run in \"+str(time.time() - my_start_time)+\" seconds.\")\n",
    "    plt.show()\n",
    "\n"
   ]
  },
  {
   "cell_type": "code",
   "execution_count": 4,
   "metadata": {},
   "outputs": [
    {
     "data": {
      "application/vnd.jupyter.widget-view+json": {
       "model_id": "0a74ee6df9b14537af04abcd213e8586"
      }
     },
     "metadata": {},
     "output_type": "display_data"
    }
   ],
   "source": [
    "mystyle = {'description_width': '200px'}\n",
    "slider = widgets.interact(runneuron, isadaptive=fixed(True),\n",
    "                          amp=widgets.FloatSlider(min=0.0,max=2.0,step=0.01,value=0.12,description='Amplitude of stimulus: amp',layout=Layout(width='50%')), \n",
    "                          dur=widgets.FloatSlider(min=0.0,max=100.0,step=1.0,value=10,description='Duration of stimulus: dur',layout=Layout(width='50%')), \n",
    "                          amp2=widgets.FloatSlider(min=0.0,max=30,step=0.1,value=1,description='Synaptic weight: amp2',layout=Layout(width='50%')), \n",
    "                          stimcomp=widgets.Dropdown(options={'soma': 0,'dend[0]': 1,'dend[1]': 2,'dend[2]': 3},description='Stimulated compartment: stimcomp',layout=Layout(width='50%')), \n",
    "                          stimx=widgets.FloatSlider(min=0.0,max=1.0,step=0.05,value=0.5,description='Location at the compartment: stimx',layout=Layout(width='50%')), \n",
    "                          tau1=widgets.FloatSlider(min=0.1,max=15.0,step=0.1,value=0.5,description='Synaptic rise time const: tau1',layout=Layout(width='50%')),\n",
    "                          tau2=widgets.FloatSlider(min=15.0,max=100.0,step=1,value=20,description='Synaptic decay time const: tau2',layout=Layout(width='50%')),\n",
    "                          glsoma=widgets.FloatSlider(min=0.0,max=0.5,step=0.01,value=0.03,description='Leak conductance, soma: glsoma',layout=Layout(width='50%')), \n",
    "                          gldend=widgets.FloatSlider(min=0.0,max=0.5,step=0.01,value=0.03,description='Leak conductance, dend: gldend',layout=Layout(width='50%')), \n",
    "                          Ra=widgets.FloatSlider(min=10.0,max=1000.0,step=10,value=100,description='Axial resistance: Ra',layout=Layout(width='50%')),\n",
    "                          cm=widgets.FloatSlider(min=0.1,max=10.0,step=0.1,value=1.0,description='Membrane capacitance: cm',layout=Layout(width='50%')))\n"
   ]
  },
  {
   "cell_type": "markdown",
   "metadata": {
    "collapsed": true
   },
   "source": [
    "The upper panel shows the membrane potential time course of the presynaptic (stimulated with current clamp) neuron, and the lower panel shows the membrane potential time course of the postsynaptic neuron. The presynaptic neuron is always stimulated at the soma, while the location of the synapse on the postsynaptic neuron can be varied.\n",
    "\n",
    "#Question 1: Make the presynaptic neuron fire repetitively by making the duration of the current clamp longer. Changing the weight of the synapse (amp2), can you make the post-synaptic neuron fire to several first ones (but not all) of the synaptic inputs?"
   ]
  },
  {
   "cell_type": "markdown",
   "metadata": {},
   "source": [
    "#***Question 2***: Can you make the post-synaptic neuron fire not after first synaptic input but after the second one? <i>Hint: increase the rise time constant of the synapse, and set the synapse further away from the soma. Slightly increase the membrane capacitances.</i>"
   ]
  }
 ],
 "metadata": {
  "kernelspec": {
   "display_name": "Python 3",
   "language": "python",
   "name": "python3"
  },
  "language_info": {
   "codemirror_mode": {
    "name": "ipython",
    "version": 3
   },
   "file_extension": ".py",
   "mimetype": "text/x-python",
   "name": "python",
   "nbconvert_exporter": "python",
   "pygments_lexer": "ipython3",
   "version": "3.5.2"
  }
 },
 "nbformat": 4,
 "nbformat_minor": 2
}
