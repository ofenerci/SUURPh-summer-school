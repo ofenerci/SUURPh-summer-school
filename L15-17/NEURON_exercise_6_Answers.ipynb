{
 "cells": [
  {
   "cell_type": "markdown",
   "metadata": {},
   "source": [
    "#Exercise 6: Using external NMODL mechanisms K_Pst and Nap_Et2 (from https://senselab.med.yale.edu/modeldb/showModel.cshtml?model=169457)"
   ]
  },
  {
   "cell_type": "code",
   "execution_count": 1,
   "metadata": {},
   "outputs": [
    {
     "name": "stdout",
     "output_type": "stream",
     "text": [
      "/home/jovyan\n",
      "K_Pst.mod Nap_Et2.mod myhh.mod\n",
      "K_Pst.mod Nap_Et2.mod myhh.mod\n",
      "\"/opt/conda/share/nrn/libtool\"  --mode=compile gcc -DHAVE_CONFIG_H  -I. -I.. -I\"/opt/conda/include/nrn\" -I\"/opt/conda/lib\"      -m64 -c -o mod_func.lo mod_func.c\n",
      "libtool: compile:  gcc -DHAVE_CONFIG_H -I. -I.. -I/opt/conda/include/nrn -I/opt/conda/lib -m64 -c mod_func.c  -fPIC -DPIC -o .libs/mod_func.o\n",
      "\"/opt/conda/share/nrn/libtool\"  --mode=link gcc -module  -m64    -o libnrnmech.la -rpath \"/opt/conda/lib\"  K_Pst.lo Nap_Et2.lo myhh.lo mod_func.lo  -L\"/opt/conda/lib\" -lnrnoc -loc -lmemacs -lnrnmpi -lscopmath -lsparse13 -lreadline -ltermcap -L\"/opt/conda/lib\" \"/opt/conda/lib/libnrniv.la\" -livoc -lneuron_gnu -lmeschach -lsundials -livos      -lm -ldl\n",
      "libtool: link: rm -fr  .libs/libnrnmech.la .libs/libnrnmech.lai .libs/libnrnmech.so .libs/libnrnmech.so.0 .libs/libnrnmech.so.0.0.0\n",
      "libtool: link: gcc -shared  -fPIC -DPIC  .libs/K_Pst.o .libs/Nap_Et2.o .libs/myhh.o .libs/mod_func.o   -Wl,-rpath -Wl,/opt/conda/lib -Wl,-rpath -Wl,/opt/conda/lib -L/opt/conda/lib /opt/conda/lib/libnrnoc.so /opt/conda/lib/liboc.so /opt/conda/lib/libmemacs.so /opt/conda/lib/libnrnmpi.so /opt/conda/lib/libscopmath.so /opt/conda/lib/libsparse13.so /opt/conda/lib/libreadline.so -ltermcap /opt/conda/lib/libnrniv.so /opt/conda/lib/libivoc.so /opt/conda/lib/libneuron_gnu.so /opt/conda/lib/libmeschach.so /opt/conda/lib/libsundials.so /opt/conda/lib/libivos.so -lm -ldl  -m64   -pthread -Wl,-soname -Wl,libnrnmech.so.0 -o .libs/libnrnmech.so.0.0.0\n",
      "libtool: link: (cd \".libs\" && rm -f \"libnrnmech.so.0\" && ln -s \"libnrnmech.so.0.0.0\" \"libnrnmech.so.0\")\n",
      "libtool: link: (cd \".libs\" && rm -f \"libnrnmech.so\" && ln -s \"libnrnmech.so.0.0.0\" \"libnrnmech.so\")\n",
      "libtool: link: ( cd \".libs\" && rm -f \"libnrnmech.la\" && ln -s \"../libnrnmech.la\" \"libnrnmech.la\" )\n",
      "Successfully created x86_64/special\n"
     ]
    }
   ],
   "source": [
    "!nrnivmodl\n",
    "#Import the python libraries\n",
    "import matplotlib.pyplot as plt\n",
    "plt.ion()\n",
    "from neuron import h\n",
    "import numpy\n",
    "import time\n",
    "from ipywidgets import widgets, fixed, Layout\n"
   ]
  },
  {
   "cell_type": "code",
   "execution_count": 2,
   "metadata": {},
   "outputs": [
    {
     "data": {
      "text/html": [
       "<style type='text/css'>\n",
       ".widget-inline-hbox .widget-label {\n",
       "      max-width: 250px;\n",
       "      min-width: 250px;\n",
       "}\n",
       "</style>"
      ],
      "text/plain": [
       "<IPython.core.display.HTML object>"
      ]
     },
     "metadata": {},
     "output_type": "display_data"
    }
   ],
   "source": [
    "%%html\n",
    "<style type='text/css'>\n",
    ".widget-inline-hbox .widget-label {\n",
    "      max-width: 250px;\n",
    "      min-width: 250px;\n",
    "}\n",
    "</style>"
   ]
  },
  {
   "cell_type": "code",
   "execution_count": 3,
   "metadata": {
    "collapsed": true
   },
   "outputs": [],
   "source": [
    "###### Run NEURON with Python interface\n",
    "def runneuron(isadaptive=False,amp=0.12,stimcomp=0,stimx=0.5,glsoma=0.03,gldend=0.03,gnasoma=120,gksoma=36,gnapsoma=1.7,gkpsoma=2.2,Ra=100,cm=1.0):\n",
    "    my_start_time = time.time()\n",
    "        \n",
    "    h.load_file(\"stdlib.hoc\")                        #A default NEURON library\n",
    "    h.load_file(\"stdrun.hoc\")                        #A default NEURON library\n",
    "\n",
    "    h('objref cvode')                                #Define an object cvode\n",
    "    h('cvode = new CVode()')                         #Make cvode a time step integrator object\n",
    "    h('cvode.active('+str(isadaptive*1)+')')         #Set the variable time step integration on/off\n",
    "\n",
    "    h('create soma, dend[3]')                        #Create soma and three dendritic sections\n",
    "\n",
    "    h.dend[0].connect(h.soma,1,0)                    #Connect the sections to each other\n",
    "    h.dend[1].connect(h.soma,1,0)\n",
    "    h.dend[2].connect(h.dend[0],1,0)\n",
    "    stimtextdict = {0: h.soma, 1: h.dend[0], 2: h.dend[1], 3: h.dend[2]}\n",
    "    stimnamedict = {0: 'soma', 1: 'dend[0]', 2: 'dend[1]', 3: 'dend[2]'}\n",
    "\n",
    "    h('access soma')                                 #Make soma the currently accessed section\n",
    "\n",
    "    for sec in [h.dend[0], h.dend[1], h.dend[2]]:\n",
    "        sec.insert('pas')                            #Insert passive membrane mechanism to all sections\n",
    "        sec.nseg = 5                                 #and use 5 sub-compartments for each section\n",
    "    h.soma.insert('myhh')                            #Insert the Hodgkin-Huxley mechanism (includes leak) to soma\n",
    "    h.soma.insert('Nap_Et2')                         #Insert persistent Na+ current\n",
    "    h.soma.insert('K_Pst')                           #Insert persistent K+ current\n",
    "    h.soma.nseg = 5                                  \n",
    "\n",
    "    #Set the parameters for each section:\n",
    "    h.soma.Ra = Ra; h.soma.cm = cm; h.soma.diam = 10; h.soma.L = 20; h.soma.gl_myhh = 0.001*glsoma; h.soma.gnabar_myhh = 0.001*gnasoma; h.soma.gkbar_myhh = 0.001*gksoma;\n",
    "    h.soma.gNap_Et2bar_Nap_Et2 = 0.001*gnapsoma; h.soma.gK_Pstbar_K_Pst = 0.001*gkpsoma;\n",
    "    h.soma.offm_K_Pst = -50; h.soma.slom_K_Pst = 3;\n",
    "    h.soma.offh_K_Pst = -45; h.soma.sloh_K_Pst = 3;\n",
    "    h.soma.taummax_Nap_Et2=6.0*10\n",
    "    h.soma.tauhmax_Nap_Et2=1.0*0.03\n",
    "    h.soma.taummin_K_Pst=1.25*3; h.soma.taumdiff1_K_Pst=175.03*3; h.soma.taumdiff2_K_Pst=13*3\n",
    "    h.dend[0].Ra = Ra; h.dend[0].cm = cm; h.dend[0].diam = 5; h.dend[0].L = 200; h.dend[0].e_pas = -54.3; h.dend[0].g_pas = 0.001*gldend\n",
    "    h.dend[1].Ra = Ra; h.dend[1].cm = cm; h.dend[1].diam = 2; h.dend[1].L = 100; h.dend[1].e_pas = -54.3; h.dend[1].g_pas = 0.001*gldend\n",
    "    h.dend[2].Ra = Ra; h.dend[2].cm = cm; h.dend[2].diam = 2; h.dend[2].L = 160; h.dend[2].e_pas = -54.3; h.dend[2].g_pas = 0.001*gldend\n",
    "\n",
    "    h.dt = 0.025                                     #Set the time step to 0.025 ms\n",
    "    h.tstop = 200                                    #Continue the simulation until 200 ms\n",
    "\n",
    "    h('objref stim')                                 #Declare objects stim and Vrec\n",
    "\n",
    "    #Make stim an IClamp object, stimulating at a given location of a given compartment\n",
    "    h.stim = h.IClamp(stimx, sec = stimtextdict[stimcomp])\n",
    "    \n",
    "    h.stim.delay = 100                               #Stimulation starts at 100 ms\n",
    "    h.stim.dur = 10                                  #and lasts 10 ms\n",
    "    h.stim.amp = amp                                 #and has a given amplitude (default 0.075 nA)\n",
    "\n",
    "    h('objref mnarec, hnarec, mkrec, mnaprec, hnaprec, mkprec, hkprec, Vrec, trec')\n",
    "    h('Vrec = new Vector()')\n",
    "    h('trec = new Vector()')\n",
    "    h('mnarec = new Vector()')\n",
    "    h('hnarec = new Vector()')\n",
    "    h('mkrec = new Vector()')\n",
    "    h('mnaprec = new Vector()')\n",
    "    h('hnaprec = new Vector()')\n",
    "    h('mkprec = new Vector()')\n",
    "    h('hkprec = new Vector()')\n",
    "    h('soma cvode.record(&v(0.5),Vrec,trec)')\n",
    "    h('soma cvode.record(&m_myhh(0.5), mnarec, trec)')\n",
    "    h('soma cvode.record(&h_myhh(0.5), hnarec, trec)')\n",
    "    h('soma cvode.record(&n_myhh(0.5), mkrec, trec)')\n",
    "    h('soma cvode.record(&m_Nap_Et2(0.5), mnaprec, trec)')\n",
    "    h('soma cvode.record(&h_Nap_Et2(0.5), hnaprec, trec)')\n",
    "    h('soma cvode.record(&m_K_Pst(0.5), mkprec, trec)')\n",
    "    h('soma cvode.record(&h_K_Pst(0.5), hkprec, trec)')\n",
    "    \n",
    "    h.init()                                         #Initialize state variables\n",
    "    h.run()                                          #Run the simulations\n",
    "\n",
    "    plt.close(\"all\")\n",
    "    f, axs = plt.subplots(2, 3, sharey=False)\n",
    "    axs[0,0].plot(h.trec,h.Vrec)\n",
    "    axs[0,0].set_title('$V_m$')\n",
    "    axs[0,1].plot(h.trec,numpy.array(h.mnarec))\n",
    "    axs[0,1].plot(h.trec,h.hnarec)\n",
    "    axs[0,1].set_title('Fast Na+ m & h')\n",
    "    axs[0,2].plot(h.trec,h.mkrec)\n",
    "    axs[0,2].set_title('Fast K+ m')\n",
    "    axs[1,1].plot(h.trec,h.mnaprec)\n",
    "    axs[1,1].plot(h.trec,h.hnaprec)\n",
    "    axs[1,1].set_title('Slow Na+ m & h')\n",
    "    axs[1,2].plot(h.trec,h.mkprec)\n",
    "    axs[1,2].plot(h.trec,h.hkprec)\n",
    "    axs[1,2].set_title('Slow K+ m & h')\n",
    "    for j in range(0,3):\n",
    "        for i in range(0,2):\n",
    "            axs[i,j].set_xlim([0,200])\n",
    "            axs[i,j].set_ylim([0,1])\n",
    "        axs[0,j].set_xticklabels([])\n",
    "    axs[0,2].set_yticklabels([])\n",
    "    axs[1,2].set_yticklabels([])\n",
    "    axs[0,0].set_ylim([-80, 40])\n",
    "    axs[1,0].set_visible(0)\n",
    "            \n",
    "    plt.suptitle(\"Simulation run in \"+str(time.time() - my_start_time)+\" seconds.\")\n",
    "    plt.show()\n"
   ]
  },
  {
   "cell_type": "code",
   "execution_count": 4,
   "metadata": {},
   "outputs": [
    {
     "name": "stderr",
     "output_type": "stream",
     "text": [
      "Widget Javascript not detected.  It may not be installed or enabled properly.\n"
     ]
    },
    {
     "data": {
      "application/vnd.jupyter.widget-view+json": {
       "model_id": "abc12e081cd540f9b563859315d2cf2a"
      }
     },
     "metadata": {},
     "output_type": "display_data"
    }
   ],
   "source": [
    "slider = widgets.interact(runneuron, isadaptive=fixed(True),\n",
    "                          amp=fixed(0.12), stimcomp=fixed(0), stimx=fixed(0.5),description='Amplitude of square pulse current: amp',layout=Layout(width='50%'), \n",
    "                          glsoma=widgets.FloatSlider(min=0.0,max=0.5,step=0.01,value=0.03,description='Leak conductance, soma: glsoma',layout=Layout(width='50%')), \n",
    "                          gldend=widgets.FloatSlider(min=0.0,max=0.5,step=0.01,value=0.03,description='Leak conductance, dend: gldend',layout=Layout(width='50%')), \n",
    "                          gnasoma=widgets.FloatSlider(min=0.0,max=240,step=10,value=120,description='Fast Na+ conductance, soma: gnasoma',layout=Layout(width='50%')), \n",
    "                          gksoma=widgets.FloatSlider(min=0.0,max=72,step=2,value=36,description='Fast K+ conductance, soma: gksoma',layout=Layout(width='50%')), \n",
    "                          gnapsoma=widgets.FloatSlider(min=0.0,max=5,step=0.1,value=0,description='Slow Na+ conductance, soma: gnapsoma',layout=Layout(width='50%')), \n",
    "                          gkpsoma=widgets.FloatSlider(min=0.0,max=5,step=0.1,value=0,description='Slow K+ conductance, soma: gkpsoma',layout=Layout(width='50%')), \n",
    "                          Ra=fixed(100), cm=fixed(1.0))\n"
   ]
  },
  {
   "cell_type": "markdown",
   "metadata": {
    "collapsed": true
   },
   "source": [
    "The added mechanisms Nap_Et2 and K_Pst represent slowly activating and inactivating Na+ and K+ currents, respectively. The left-hand panel shows the somatic membrane potential, the other upper-row panels show the activation (blue) and inactivation (orange) variables of the previously used default HH Na+ (middle) and K+ (right) channels. The lower-row panels show the activation (blue) and inactivation (orange) variables for the new ion channels, Nap_Et2 (middle) and K_Pst (right). Certain parameters of the added channels have been modified in the above code to highlight their differences from the default HH channels.\n",
    "\n",
    "#Question 1: Keeping the slow active conductances zero, study the activation and inactivation (when present) variables of all four currents. How are the kinetics of the new channels (lower panels) different from the default HH channels (upper panels)?\n",
    "\n",
    "Answer: Activation is somewhat smaller in both currents, and the inactivation is much slower."
   ]
  },
  {
   "cell_type": "markdown",
   "metadata": {},
   "source": [
    "#Question 2: Keeping the slow K+ conductance zero, find values for the Na+ conductances and the fast K+ conductance that make the neuron produce persistent firing (or resonating around a depolarized membrane potential value) as a response to the stimulus at $t=100$ ms.\n",
    "\n",
    "Answer: E.g., gnasoma = 190, gksoma = 26, gnapsoma = 4.4."
   ]
  },
  {
   "cell_type": "markdown",
   "metadata": {},
   "source": [
    "#***Question 3***: Adding the slow K+ conductance, find values for all the active conductances that make the neuron fire multiple action potentials as a response to the stimulus at $t=100$ ms and hyperpolarize afterwards.\n",
    "\n",
    "Answer: E.g., gnasoma = 190, gksoma = 26, gnapsoma = 4.4, gkpsoma = 3.3."
   ]
  },
  {
   "cell_type": "code",
   "execution_count": null,
   "metadata": {
    "collapsed": true
   },
   "outputs": [],
   "source": []
  }
 ],
 "metadata": {
  "kernelspec": {
   "display_name": "Python 3",
   "language": "python",
   "name": "python3"
  },
  "language_info": {
   "codemirror_mode": {
    "name": "ipython",
    "version": 3
   },
   "file_extension": ".py",
   "mimetype": "text/x-python",
   "name": "python",
   "nbconvert_exporter": "python",
   "pygments_lexer": "ipython3",
   "version": "3.5.2"
  }
 },
 "nbformat": 4,
 "nbformat_minor": 2
}
