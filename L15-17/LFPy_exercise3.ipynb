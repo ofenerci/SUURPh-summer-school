{
 "cells": [
  {
   "cell_type": "markdown",
   "metadata": {},
   "source": [
    "<!-- TITLE: Extracellular potentials from neuron simulation -->\n",
    "<!-- AUTHOR: Solveig Naess -->\n",
    "<!--  -->\n",
    "<!-- DATE: today -->\n",
    "\n",
    "<!-- TOC: on -->\n",
    "\n",
    "\n",
    "\n",
    "<!-- --- begin exercise --- -->\n",
    "\n",
    "## Exercise 1: Record extracellular potential from spiking neuron\n",
    "\n",
    "\n",
    "**a)**\n",
    "**Create electrode array**\n",
    "<linebreak> To study how the extracellular potential changes over time, we want to create an electrode array. Imagine that you stick an electrode into the extracellular medium, such that it is oriented parallel to the neuron (i.e. parallel to the z-axis). Run the code cells below to simulate the cell, create an electrode array and virtually record extracellular potentials."
   ]
  },
  {
   "cell_type": "code",
   "execution_count": 1,
   "metadata": {
    "collapsed": false
   },
   "outputs": [
    {
     "name": "stderr",
     "output_type": "stream",
     "text": [
      "/Applications/anaconda/lib/python2.7/site-packages/matplotlib/font_manager.py:273: UserWarning: Matplotlib is building the font cache using fc-list. This may take a moment.\n",
      "  warnings.warn('Matplotlib is building the font cache using fc-list. This may take a moment.')\n"
     ]
    }
   ],
   "source": [
    "%matplotlib inline\n",
    "\n",
    "import LFPy\n",
    "import numpy as np\n",
    "from pylab import *\n",
    "from matplotlib.collections import PolyCollection\n",
    "from ipywidgets import widgets, fixed\n",
    "from neuron import h"
   ]
  },
  {
   "cell_type": "code",
   "execution_count": 2,
   "metadata": {
    "collapsed": false
   },
   "outputs": [],
   "source": [
    "def custom_fun():\n",
    "    h.soma.insert('hh')\n",
    "\n",
    "def potentials_electrode_array(morphology,\n",
    "                               synapse_xpos,\n",
    "                               synapse_zpos,\n",
    "                               syn_weight,\n",
    "                               stimulation_time,\n",
    "                               active_soma,\n",
    "                               array_xpos,\n",
    "                               array_npoints,\n",
    "                               rot):\n",
    "    cell_parameters = {\n",
    "        'morphology' : morphology, # from Mainen & Sejnowski, J Comput Neurosci, 1996\n",
    "        'cm' : 1.0,         # membrane capacitance\n",
    "        'Ra' : 150.,        # axial resistance\n",
    "        'v_init' : -65.,    # initial crossmembrane potential\n",
    "        'passive' : True,   # turn on NEURONs passive mechanism for all sections\n",
    "        'passive_parameters' : {'g_pas' : 1./30000, 'e_pas' : -65},\n",
    "        'dt' : 2.**-3,      # simulation time step size\n",
    "        'tstart' : 0.,      # start time of simulation, recorders start at t=0\n",
    "        'tstop' : 100.,     # stop simulation at 100 ms.\n",
    "    }\n",
    "\n",
    "    if active_soma:\n",
    "        cell_parameters['custom_fun'] = [custom_fun]\n",
    "        cell_parameters['custom_fun_args'] = [{}]\n",
    "\n",
    "    cell = LFPy.Cell(**cell_parameters)\n",
    " #   cell.set_rotation(x=4.99, y=-4.33, z=3.14)\n",
    "    cell.set_rotation(x=rot[0], y=rot[1], z=rot[2])\n",
    "\n",
    "    synapse_parameters = {\n",
    "        'idx' : cell.get_closest_idx(x=synapse_xpos, y=0., z=synapse_zpos),\n",
    "        'e' : 0.,                   # reversal potential\n",
    "        'syntype' : 'ExpSyn',       # synapse type\n",
    "        'tau' : 5.,                 # synaptic time constant\n",
    "        'weight' : syn_weight,            # synaptic weight\n",
    "        'record_current' : True,    # record synapse current\n",
    "    }\n",
    "\n",
    "    # Create synapse and set time of synaptic input\n",
    "    synapse = LFPy.Synapse(cell, **synapse_parameters)\n",
    "    synapse.set_spike_times(np.array([stimulation_time]))\n",
    "\n",
    "    # simulate cell\n",
    "    cell.simulate(rec_imem=True, rec_vmem=True)\n",
    "    electrode_array_parameters = {\n",
    "        'sigma' : 0.3,\n",
    "        'x' : np.ones(array_npoints)*array_xpos,\n",
    "        'y' : np.zeros(array_npoints),\n",
    "        'z' : np.linspace(0,1000., num=array_npoints),\n",
    "    }\n",
    "    electrode_array = LFPy.RecExtElectrode(cell,**electrode_array_parameters)\n",
    "\n",
    "    clrs = cm.viridis(np.linspace(0,1,num=len(electrode_array_parameters['x'])))\n",
    "    fig = plt.figure()\n",
    "    ax1 = subplot2grid((1,3),(0,2))\n",
    "    zips = []\n",
    "    for x, z in cell.get_idx_polygons():\n",
    "        zips.append(list(zip(x, z)))\n",
    "    polycol = PolyCollection(zips,\n",
    "                             edgecolors='none',\n",
    "                             facecolors='k')\n",
    "    ax1.add_collection(polycol)\n",
    "    ax1.plot(cell.xmid[cell.synidx], cell.zmid[cell.synidx], 'ro', ms = 5.)\n",
    "    for i in range(len(clrs)):\n",
    "        ax1.plot(electrode_array_parameters['x'][i], electrode_array_parameters['z'][i], 'o', color=clrs[i], ms = 5.)\n",
    "    ax1.axis('off')\n",
    "\n",
    "    electrode_array.calc_lfp()\n",
    "    potentials = electrode_array.LFP\n",
    "\n",
    "    ax2 = plt.subplot2grid((1,3),(0,0))\n",
    "    for i in range(len(clrs)):\n",
    "        ax2.plot(cell.tvec, potentials[i]*1e6, color=clrs[i], lw = 3.)\n",
    "    ax2.set_xlabel('time [ms]')\n",
    "    ax2.set_ylabel('potential [nV]')\n",
    "    ax3 = plt.subplot2grid((1,3),(0,1))\n",
    "    ax3.plot(cell.tvec, cell.vmem[0])\n",
    "    ax3.set_xlabel('t [ms]')\n",
    "    ax3.set_ylabel('soma potential [mV]')\n",
    "\n",
    "    plt.show()"
   ]
  },
  {
   "cell_type": "code",
   "execution_count": 3,
   "metadata": {
    "collapsed": false
   },
   "outputs": [
    {
     "data": {
      "image/png": "[encoded data removed]",
      "text/plain": [
       "<matplotlib.figure.Figure at 0x113ff7cd0>"
      ]
     },
     "metadata": {},
     "output_type": "display_data"
    }
   ],
   "source": [
    "morphology = './cells/j4a.hoc'\n",
    "rotation = [4.99, -4.33, 3.14]\n",
    "slider = widgets.interact(potentials_electrode_array, morphology=fixed(morphology),\n",
    "                          synapse_xpos=widgets.IntSlider(min=-200.,max=200.,step=10.,value=0.),\n",
    "                          synapse_zpos=widgets.IntSlider(min=-200.,max=1400.,step=10.,value=600.),\n",
    "                          syn_weight=widgets.FloatSlider(min=0.,max=.1,step=.0001,value=0.03),\n",
    "                          active_soma=False,\n",
    "                          stimulation_time = widgets.IntSlider(min=0.,max=80.,step=10.,value=20.),\n",
    "                          rot = fixed(rotation),\n",
    "                          array_xpos = widgets.IntSlider(min=0., max = 10000, step = 100, value = 400),\n",
    "                          array_npoints = fixed(5),\n",
    "                          )"
   ]
  },
  {
   "cell_type": "markdown",
   "metadata": {},
   "source": [
    "**b)**\n",
    "Use the sliders to study how the extracellular potentials depend on the distance from the neuron. Can you explain the shape of the extracellular potentials based on the recording sites?\n",
    "\n",
    "**c)**\n",
    "Now try to turn the Hodgkin-Huxley mechanism in the soma on. Change the parameters using the sliders, to make the neuron spike. How does the spiking affect the potentials measured by the electrode array? Does this change when you move the electrode far away from the neuron?\n",
    "\n",
    "<!-- --- end exercise --- -->"
   ]
  }
 ],
 "metadata": {
  "kernelspec": {
   "display_name": "Python 2",
   "language": "python",
   "name": "python2"
  },
  "language_info": {
   "codemirror_mode": {
    "name": "ipython",
    "version": 2
   },
   "file_extension": ".py",
   "mimetype": "text/x-python",
   "name": "python",
   "nbconvert_exporter": "python",
   "pygments_lexer": "ipython2",
   "version": "2.7.12"
  }
 },
 "nbformat": 4,
 "nbformat_minor": 2
}
