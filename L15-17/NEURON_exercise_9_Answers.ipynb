{
 "cells": [
  {
   "cell_type": "markdown",
   "metadata": {},
   "source": [
    "#Exercise 9: Simulation of a small (N=50) network of single-compartmental neurons"
   ]
  },
  {
   "cell_type": "code",
   "execution_count": 1,
   "metadata": {
    "collapsed": true
   },
   "outputs": [],
   "source": [
    "#Import the python libraries\n",
    "import matplotlib.pyplot as plt\n",
    "plt.ion()\n",
    "from neuron import h\n",
    "import numpy\n",
    "import time\n",
    "from ipywidgets import widgets, fixed, Layout"
   ]
  },
  {
   "cell_type": "code",
   "execution_count": 2,
   "metadata": {},
   "outputs": [
    {
     "data": {
      "text/html": [
       "<style type='text/css'>\n",
       ".widget-inline-hbox .widget-label {\n",
       "      max-width: 250px;\n",
       "      min-width: 250px;\n",
       "}\n",
       "</style>"
      ],
      "text/plain": [
       "<IPython.core.display.HTML object>"
      ]
     },
     "metadata": {},
     "output_type": "display_data"
    }
   ],
   "source": [
    "%%html\n",
    "<style type='text/css'>\n",
    ".widget-inline-hbox .widget-label {\n",
    "      max-width: 250px;\n",
    "      min-width: 250px;\n",
    "}\n",
    "</style>"
   ]
  },
  {
   "cell_type": "code",
   "execution_count": 3,
   "metadata": {
    "collapsed": true
   },
   "outputs": [],
   "source": [
    "### Run NEURON with Python interface\n",
    "def runneuron(N=50,isadaptive=True,amp=0.12,dur=10,Nstim=1,pconn=0.3,amp2=1.0,tau1=0.5,tau2=20.0,glsoma=0.03,cm=1.0,rdseed=1):\n",
    "    my_start_time = time.time()\n",
    "    numpy.random.seed(rdseed)\n",
    "    connM = (numpy.random.rand(N,N) < pconn)*(1-numpy.eye(N)) #Make connectivity matrix, don't allow autapses (self-connections)\n",
    "        \n",
    "    h.load_file(\"stdlib.hoc\")                        #A default NEURON library\n",
    "    h.load_file(\"stdrun.hoc\")                        #A default NEURON library\n",
    "\n",
    "    h('objref cvode')                                #Define an object cvode\n",
    "    h('cvode = new CVode()')                         #Make cvode a time step integrator object\n",
    "    h('cvode.active('+str(isadaptive*1)+')')         #Set the variable time step integration on/off\n",
    "\n",
    "    h('create soma['+str(N)+']')                     #Create soma for N neurons\n",
    "\n",
    "    h('access soma[0]')                              #Make soma[0] the currently accessed section\n",
    "\n",
    "    for i in range(0,N):\n",
    "        h.soma[i].insert('hh')                       #Insert the Hodgkin-Huxley mechanism (includes leak) to soma\n",
    "        h.soma[i].nseg = 1                                  \n",
    "\n",
    "    #Set the passive parameters for each section:\n",
    "    for i in range(0,N):\n",
    "        h.soma[i].cm = cm;\n",
    "        h.soma[i].diam = 10;\n",
    "        h.soma[i].L = 20;\n",
    "        h.soma[i].gl_hh = 0.001*glsoma\n",
    "\n",
    "    h.dt = 0.025                                     #Set the time step to 0.025 ms\n",
    "    h.tstop = 300                                    #Continue the simulation until 200 ms\n",
    "\n",
    "    h('objref stims['+str(Nstim)+'], syns')          #Declare stimulation objects and synapse objects\n",
    "    for i in range(0,Nstim):\n",
    "        h.stims[i] = h.IClamp(0.5, sec = h.soma[i])  #Make stims[i] an IClamp object, stimulating center (0.5) of soma\n",
    "        h.stims[i].delay = 100                       #Stimulation starts at 100 ms\n",
    "        h.stims[i].dur = dur                         #and lasts 10 ms (by default)\n",
    "        h.stims[i].amp = amp                         #and has a given amplitude (default 0.12 nA)\n",
    "\n",
    "    h('objref nc, ncs, fih, Vrecs, trec')            #Declare objects nc, nilstim, fih, Vrecs and trec\n",
    "    nSyn = 0\n",
    "    h.ncs = h.List()\n",
    "    h.syns = h.List()\n",
    "    Vrecs = []\n",
    "    h('objref spikes, spikedCells, nil')\n",
    "    h.spikes = h.Vector()\n",
    "    h.spikedCells = h.Vector()\n",
    "    for i in range(0,N):\n",
    "        for j in range(0,N):\n",
    "            if connM[i,j]:\n",
    "                h('soma['+str(j)+'] syns.append(new Exp2Syn(0.5))')\n",
    "                h.syns[nSyn].tau1 = tau1             #Synaptic stimulation has given rise and\n",
    "                h.syns[nSyn].tau2 = tau2             #decay time constants\n",
    "                h('soma['+str(i)+'] ncs.append(new NetCon(&v(0.5), syns.o['+str(nSyn)+']))') #Insert a NetCon object that activates syns[nSyn] whenever soma.v(0.5) crosses a threshold\n",
    "                h.ncs[nSyn].threshold = -30                             #set threshold to -30 mV\n",
    "                h('ncs.o['+str(nSyn)+'].weight = '+str(0.001*amp2))     #Maximal synaptic conductance amp (default 1 nS (0.001 uS)) \n",
    "                nSyn = nSyn + 1\n",
    "\n",
    "        Vrecs.append(h.Vector())                                #Record somatic membrane potentials and time\n",
    "        Vrecs[i].record(h.soma[i](0.5)._ref_v, sec=h.soma[i])\n",
    "        h('soma['+str(i)+'] nc = new NetCon(&v(0.5),nil)')\n",
    "        h.nc.threshold = -30\n",
    "        h('nc.record(spikes, spikedCells)')\n",
    "        \n",
    "    trec = h.Vector()\n",
    "    trec.record(h._ref_t)\n",
    "    \n",
    "    \n",
    "    \n",
    "    h.init()                                         #Initialize state variables\n",
    "    h.run()                                          #Run the simulations\n",
    "\n",
    "    plt.close(\"all\")\n",
    "    f, axs = plt.subplots(1, 2, sharey=False)\n",
    "    for i in range(0,N):\n",
    "        axs[0].plot(trec,20*i+numpy.array(Vrecs[i]))\n",
    "    axs[1].plot(numpy.array(h.spikes), numpy.array(h.spikedCells),'b.')\n",
    "    #axs[1].plot(trec,Vrec2)\n",
    "    #for i in range(0,2):\n",
    "    #    axs[i].set_title('soma-'+str(i+1))\n",
    "    #    axs[i].set_xlim([0, 300])\n",
    "    #    axs[i].set_ylim([-80, 40])\n",
    "    #    axs[i].set_ylabel('$V_m(t)$ (mV)')\n",
    "    plt.suptitle(\"Simulation run in \"+str(time.time() - my_start_time)+\" seconds.\")\n",
    "    plt.show()\n",
    "\n"
   ]
  },
  {
   "cell_type": "code",
   "execution_count": 4,
   "metadata": {},
   "outputs": [
    {
     "name": "stderr",
     "output_type": "stream",
     "text": [
      "Widget Javascript not detected.  It may not be installed or enabled properly.\n"
     ]
    },
    {
     "data": {
      "application/vnd.jupyter.widget-view+json": {
       "model_id": "60030a53c77f4a24a0c042bf57b8d7ca"
      }
     },
     "metadata": {},
     "output_type": "display_data"
    }
   ],
   "source": [
    "slider = widgets.interact(runneuron, N=fixed(50), isadaptive=fixed(True),\n",
    "                          amp=widgets.FloatSlider(min=0.0,max=0.5,step=0.01,value=0.12,description='Amplitude of stimulus: amp',layout=Layout(width='50%')), \n",
    "                          dur=widgets.FloatSlider(min=0.0,max=100.0,step=1.0,value=10,description='Duration of stimulus: dur',layout=Layout(width='50%')), \n",
    "                          Nstim=widgets.IntSlider(min=0,max=10,step=1,value=1,description='Number of stimulated cells: Nstim',layout=Layout(width='50%')), \n",
    "                          pconn=widgets.FloatSlider(min=0.0,max=1.0,step=0.05,value=0.3,description='Connection probability: pconn',layout=Layout(width='50%')),\n",
    "                          amp2=widgets.FloatSlider(min=0.0,max=1.0,step=0.02,value=0.1,description='Synaptic weight: amp2',layout=Layout(width='50%')), \n",
    "                          tau1=widgets.FloatSlider(min=0.1,max=15.0,step=0.1,value=0.5,description='Synaptic rise time const: tau1',layout=Layout(width='50%')),\n",
    "                          tau2=widgets.FloatSlider(min=15.0,max=100.0,step=1,value=20,description='Synaptic decay time const: tau2',layout=Layout(width='50%')),\n",
    "                          glsoma=widgets.FloatSlider(min=0.0,max=0.5,step=0.01,value=0.03,description='Leak conductance, soma: glsoma',layout=Layout(width='50%')), \n",
    "                          cm=fixed(1.0), \n",
    "                          rdseed=widgets.IntSlider(min=1,max=20,step=1,value=1,description='Random number seed: rdseed',layout=Layout(width='50%')))\n"
   ]
  },
  {
   "cell_type": "markdown",
   "metadata": {
    "collapsed": true
   },
   "source": [
    "#Question 1: Increase the number of current-clamp-stimulated neurons (Nstim) to make the whole network fire until 300 ms. Would the activity continue until arbitrary time if tstop was increased?\n",
    "\n",
    "Answer: Setting Nstim = 10 and amp2 = 0.08 makes the network fire in a stable manner. The simulation can be extended to 3000 ms (this may take more than minute to simulate though!), and the activity still continues."
   ]
  },
  {
   "cell_type": "markdown",
   "metadata": {},
   "source": [
    "#Question 2: Can you make the firing activity spread throughout most of the neurons but then stop before $t$ = 300 ms? <i>Hint: use a small connection probability (0.05 or 0.1)</i>. Is the phenomenon stable (try with different random number seeds)?\n",
    "\n",
    "Answer: Yes, e.g., Nstim = 2, pconn = 0.05, amp2 = 0.16. This is not a very stable phenomenon, as for some network configurations the activity stops immediately, and for some it enters an attractor where a group of neurons is persistently active and other are silent."
   ]
  },
  {
   "cell_type": "code",
   "execution_count": null,
   "metadata": {
    "collapsed": true
   },
   "outputs": [],
   "source": []
  }
 ],
 "metadata": {
  "kernelspec": {
   "display_name": "Python 3",
   "language": "python",
   "name": "python3"
  },
  "language_info": {
   "codemirror_mode": {
    "name": "ipython",
    "version": 3
   },
   "file_extension": ".py",
   "mimetype": "text/x-python",
   "name": "python",
   "nbconvert_exporter": "python",
   "pygments_lexer": "ipython3",
   "version": "3.5.2"
  }
 },
 "nbformat": 4,
 "nbformat_minor": 2
}
