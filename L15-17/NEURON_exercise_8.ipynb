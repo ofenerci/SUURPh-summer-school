{
 "cells": [
  {
   "cell_type": "markdown",
   "metadata": {},
   "source": [
    "Exercise 8: Realistic morphology"
   ]
  },
  {
   "cell_type": "code",
   "execution_count": 1,
   "metadata": {
    "collapsed": true
   },
   "outputs": [],
   "source": [
    "#Import the python libraries\n",
    "import matplotlib.pyplot as plt\n",
    "plt.ion()\n",
    "import matplotlib.cm as cm\n",
    "from neuron import h\n",
    "import numpy\n",
    "import time\n",
    "from ipywidgets import widgets, fixed, Layout\n",
    "import pickle\n",
    "unpicklefile = open('coords.sav', 'rb')\n",
    "unpickledlist = pickle.load(unpicklefile)\n",
    "unpicklefile.close()\n",
    "xs = numpy.array(unpickledlist[0]); ys = numpy.array(unpickledlist[1]); sections = unpickledlist[2]\n"
   ]
  },
  {
   "cell_type": "code",
   "execution_count": 2,
   "metadata": {},
   "outputs": [
    {
     "data": {
      "text/html": [
       "<style type='text/css'>\n",
       ".widget-inline-hbox .widget-label {\n",
       "      max-width: 250px;\n",
       "      min-width: 250px;\n",
       "}\n",
       "</style>"
      ],
      "text/plain": [
       "<IPython.core.display.HTML object>"
      ]
     },
     "metadata": {},
     "output_type": "display_data"
    }
   ],
   "source": [
    "%%html\n",
    "<style type='text/css'>\n",
    ".widget-inline-hbox .widget-label {\n",
    "      max-width: 250px;\n",
    "      min-width: 250px;\n",
    "}\n",
    "</style>"
   ]
  },
  {
   "cell_type": "code",
   "execution_count": 3,
   "metadata": {
    "collapsed": true
   },
   "outputs": [],
   "source": [
    "### Run NEURON with Python interface\n",
    "def runneuron(isadaptive=True,amp=0.12,dur=10,stimcomp=0,reccomp=0):\n",
    "    my_start_time = time.time()\n",
    "        \n",
    "    h.load_file(\"stdlib.hoc\")                        #A default NEURON library\n",
    "    h.load_file(\"stdrun.hoc\")                        #A default NEURON library\n",
    "    h.load_file(\"import3d.hoc\")                      #A default NEURON library needed for importing 3D morphologies\n",
    "\n",
    "    h('objref cvode, L5PC')                          #Define an object cvode\n",
    "    h('cvode = new CVode()')                         #Make cvode a time step integrator object\n",
    "    h('cvode.active('+str(isadaptive*1)+')')         #Set the variable time step integration on/off\n",
    "\n",
    "    h.load_file(\"L5PCbiophys.hoc\")                   #Load the biophysical properties (ion channel conductances etc.)                                                                                                                      \n",
    "    h.load_file(\"L5PCtemplate.hoc\")                  #Load a template for L5PCs                                                                                                                                                            \n",
    "    h(\"L5PC = new L5PCtemplate(\\\"cell1.asc\\\")\")      #Make an instance of L5PCtemplate. Give as an argument the name                                                                                                                       \n",
    "                                                     #of the morphology file, which will be loaded                                                                                                                                         \n",
    "    h('access L5PC.soma')                            #Make soma the currently accessed section                                                                                                                                             \n",
    "\n",
    "    h.dt = 0.025                                     #Set the time step to 0.025 ms                                                                                                                                                        \n",
    "    h.tstop = 200                                    #Continue the simulation until 200 ms          \n",
    "    \n",
    "    h('objref stim, Vrec')                           #Declare objects stim and Vrec\n",
    "\n",
    "    #Make stim an IClamp object, stimulating at a given location of a given compartment\n",
    "    h('L5PC.'+sections[stimcomp]+' stim = new IClamp(0.5)')            \n",
    "    \n",
    "    h.stim.delay = 100                               #Stimulation starts at 100 ms\n",
    "    h.stim.dur = dur                                 #and lasts 10 ms\n",
    "    h.stim.amp = amp                                 #and has a given amplitude (default 0.075 nA)\n",
    "\n",
    "    h('objref Vrec, trec')\n",
    "    h('Vrec = new Vector()')\n",
    "    h('trec = new Vector()')\n",
    "    h('L5PC.soma cvode.record(&v(0.5),Vrec,trec)')\n",
    "\n",
    "    Vrecs = []                                       #Save segment-wise membrane potential values in Vrecs\n",
    "    for i in range(0,h.L5PC.soma[0].nseg):           #Iterate across soma\n",
    "        Vrecs.append(h.Vector())                     #Append a vector and record to the added vector\n",
    "        Vrecs[-1].record(h.L5PC.soma[0]((i+0.5)/h.L5PC.soma[0].nseg)._ref_v, sec=h.L5PC.soma[0])       \n",
    "    for j in range(0,84):                            #Iterate across basal tree\n",
    "        for i in range(0,h.L5PC.dend[j].nseg):       #Iterate across a basal section\n",
    "            Vrecs.append(h.Vector())                 #Append a vector and record to the added vector\n",
    "            Vrecs[-1].record(h.L5PC.dend[j]((i+0.5)/h.L5PC.dend[j].nseg)._ref_v, sec=h.L5PC.dend[j])       \n",
    "    for j in range(0,109):                           #Iterate across apical tree\n",
    "        for i in range(0,h.L5PC.apic[j].nseg):       #Iterate across a apical section\n",
    "            Vrecs.append(h.Vector())                 #Append a vector and record to the added vector\n",
    "            Vrecs[-1].record(h.L5PC.apic[j]((i+0.5)/h.L5PC.apic[j].nseg)._ref_v, sec=h.L5PC.apic[j])       \n",
    "    \n",
    "    h.init()                                         #Initialize state variables\n",
    "    h.run()                                          #Run the simulations\n",
    "\n",
    "    itime = next(i for i,x in enumerate(numpy.array(h.trec)) if x >= 100)\n",
    "    maxvs = numpy.array([max(numpy.array(x)[itime:]) for x in Vrecs])\n",
    "    vdiffs = [-85+5*x for x in range(0,26)]\n",
    "    colors = cm.rainbow(numpy.linspace(0, 1, 26))\n",
    "        \n",
    "    \n",
    "    plt.close(\"all\")\n",
    "    f, axs = plt.subplots(1, 2, sharey=False)\n",
    "    axs[0].plot(h.trec,Vrecs[reccomp])\n",
    "    axs[0].set_ylabel('$V_m(t)$ (mV)')\n",
    "    for icolor in range(0,25):\n",
    "        inds = numpy.logical_and(maxvs > vdiffs[icolor], maxvs <= vdiffs[icolor+1])\n",
    "        axs[1].plot(xs[inds],ys[inds],'b.',color=colors[icolor])\n",
    "        axs[1].plot(240,400+20*icolor,'bs',color=colors[icolor],mew=2)\n",
    "        if icolor % 4 == 0:\n",
    "            axs[1].text(100,400+20*icolor,str(vdiffs[icolor])+' mV')\n",
    "    axs[1].plot(240,400+20*28,'bs',color=colors[25],mew=2)\n",
    "    axs[1].text(100,400+20*28,'>'+str(vdiffs[25])+' mV')\n",
    "    inds = maxvs > vdiffs[25]\n",
    "    axs[1].plot(xs[inds],ys[inds],'b.',color=colors[25])\n",
    "        \n",
    "\n",
    "    axs[1].plot(xs[reccomp],ys[reccomp],'ko',markersize=6,mew=4)\n",
    "    axs[1].plot(xs[stimcomp],ys[stimcomp],'gx',markersize=12,mew=4)\n",
    "    \n",
    "    plt.suptitle(\"Simulation run in \"+str(time.time() - my_start_time)+\" seconds.\")\n",
    "    plt.show()\n"
   ]
  },
  {
   "cell_type": "code",
   "execution_count": 8,
   "metadata": {},
   "outputs": [
    {
     "data": {
      "application/vnd.jupyter.widget-view+json": {
       "model_id": "27d5eee2e2504ac48a4ccc8a38459152"
      }
     },
     "metadata": {},
     "output_type": "display_data"
    }
   ],
   "source": [
    "slider = widgets.interact(runneuron, isadaptive=fixed(True), amp=widgets.FloatSlider(min=0.0,max=8.0,step=0.01,value=0.12,description='Amplitude of stimulus: amp',layout=Layout(width='50%')),\n",
    "                          dur=widgets.FloatSlider(min=0.0,max=100.0,step=1.0,value=10,description='Duration of stimulus: dur',layout=Layout(width='50%')),\n",
    "                          stimcomp=widgets.IntSlider(min=0,max=639,step=1,value=0,description='Stimulated compartment index: stimcomp',layout=Layout(width='50%')), \n",
    "                          reccomp=widgets.IntSlider(min=0,max=639,step=1,value=0,description='Recorded compartment index: stimcomp',layout=Layout(width='50%')))\n"
   ]
  },
  {
   "cell_type": "markdown",
   "metadata": {
    "collapsed": true
   },
   "source": [
    "In this exercise, a reconstructed layer V pyramidal cell (L5PC) morphology was loaded and used in the simulation. The left-hand panel shows the membrane potential in the middle of a selected compartment. The right-hand panel illustrates the neuron morphology. The green 'x' points at the stimulated compartment, and the black dot points at the recorded compartment (whose membrane potential is shown in left-hand panel). The colors of the other points in the morphology show the maximal membrane potential in the underlying compartment during the simulation.\n",
    "\n",
    "#Question: Stimulate the neuron at the distal apical dendrite (around compartments 398-413). Can you make the neuron fire an action potential? Is this realistic?"
   ]
  }
 ],
 "metadata": {
  "kernelspec": {
   "display_name": "Python 3",
   "language": "python",
   "name": "python3"
  },
  "language_info": {
   "codemirror_mode": {
    "name": "ipython",
    "version": 3
   },
   "file_extension": ".py",
   "mimetype": "text/x-python",
   "name": "python",
   "nbconvert_exporter": "python",
   "pygments_lexer": "ipython3",
   "version": "3.5.2"
  }
 },
 "nbformat": 4,
 "nbformat_minor": 2
}
