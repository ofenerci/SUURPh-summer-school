{
 "cells": [
  {
   "cell_type": "markdown",
   "metadata": {},
   "source": [
    "#Exercise 1: Run the hoc code, load the results and draw"
   ]
  },
  {
   "cell_type": "code",
   "execution_count": 1,
   "metadata": {
    "collapsed": true
   },
   "outputs": [],
   "source": [
    "#Import the python libraries\n",
    "from pylab import *\n",
    "ion()\n",
    "from neuron import h\n",
    "import time"
   ]
  },
  {
   "cell_type": "code",
   "execution_count": 2,
   "metadata": {},
   "outputs": [
    {
     "name": "stdout",
     "output_type": "stream",
     "text": [
      "Running myneuron.hoc\n",
      "myneuron.hoc run in 0.12708497047424316 seconds.\n"
     ]
    },
    {
     "data": {
      "text/plain": [
       "<matplotlib.text.Text at 0x7fb09b6cb390>"
      ]
     },
     "execution_count": 2,
     "metadata": {},
     "output_type": "execute_result"
    },
    {
     "data": {
      "image/png": "[encoded data removed]",
      "text/plain": [
       "<matplotlib.figure.Figure at 0x7fb09e1dfda0>"
      ]
     },
     "metadata": {},
     "output_type": "display_data"
    }
   ],
   "source": [
    "#Run the hoc code\n",
    "my_start_time = time.time()\n",
    "print(\"Running myneuron.hoc\")\n",
    "h(\"\"\"load_file(\\\"myneuron.hoc\\\")\"\"\")\n",
    "print(\"myneuron.hoc run in \"+str(time.time() - my_start_time)+\" seconds.\")\n",
    "ts = []\n",
    "vs = []\n",
    "\n",
    "#Load the results\n",
    "with open('run.dat', 'r') as file:        \n",
    "  for row in file:\n",
    "    t,v = row.split()\n",
    "    ts.append(float(t))\n",
    "    vs.append(float(v))\n",
    "\n",
    "#Plot the results\n",
    "f,ax = subplots(1,1)\n",
    "ax.plot(ts,vs)\n",
    "ax.set_xlabel('$t$ (ms)')\n",
    "ax.set_ylabel('$V_m$ (mV)')\n"
   ]
  },
  {
   "cell_type": "markdown",
   "metadata": {},
   "source": [
    "#Question 1: Can you tell from the picture when the somatic current injection is set on and off?"
   ]
  },
  {
   "cell_type": "markdown",
   "metadata": {},
   "source": [
    "#Question 2: The system is greatly affected by three model parameters, $E_{Na}$ (sodium reversal potential), $E_{K}$ (potassium reversal potential), and $E_{l}$ (leak reversal potential). See the equations below. What can you tell from the minimal and maximal values of these three potentials based on the picture, given that the activation and inactivation variables $m(t)$, $h(t)$, and $n(t)$ are non-negative?\n",
    "$$I_{Na} = \\bar{g}_{Na}m^3h(E_{Na}-V)$$\n",
    "$$I_{K} = \\bar{g}_{K}n^4(E_{K}-V)$$\n",
    "$$I_{l} = \\bar{g}_{l}(E_{l}-V)$$"
   ]
  },
  {
   "cell_type": "code",
   "execution_count": null,
   "metadata": {
    "collapsed": true
   },
   "outputs": [],
   "source": []
  }
 ],
 "metadata": {
  "kernelspec": {
   "display_name": "Python 3",
   "language": "python",
   "name": "python3"
  },
  "language_info": {
   "codemirror_mode": {
    "name": "ipython",
    "version": 3
   },
   "file_extension": ".py",
   "mimetype": "text/x-python",
   "name": "python",
   "nbconvert_exporter": "python",
   "pygments_lexer": "ipython3",
   "version": "3.5.2"
  }
 },
 "nbformat": 4,
 "nbformat_minor": 2
}
