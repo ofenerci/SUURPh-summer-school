{
 "cells": [
  {
   "cell_type": "markdown",
   "metadata": {},
   "source": [
    "<!-- dom:TITLE: Extracellular potentials from single-neuron simulation -->\n",
    "# Extracellular potentials from single-neuron simulation\n",
    "\n",
    "Date: **Jun 23, 2017**\n",
    "\n",
    "<!-- TOC: on -->\n",
    "\n",
    "In these exercises we want to study different neuron morphologies,\n",
    "and get a better understanding of the following concepts:\n",
    "\n",
    "* membrane potential\n",
    "\n",
    "* extracellular potentials\n",
    "\n",
    "with emphasis on the effect of synaptic weight and placement.\n",
    "Till now we have used NEURON for simulation of neural activity. In this exercise\n",
    "we want to investigate how the neural activity gives rise to measurable\n",
    "electric potentials in the space outside of the neuron. For this purpose we\n",
    "introduce a python package called LFPy, running NEURON under the hood.\n",
    "Documentation can be found here: [http://lfpy.github.io/](http://lfpy.github.io/) (NB: some updates are not documented.)\n",
    "\n",
    "\n",
    "\n",
    "<!-- --- begin exercise --- -->\n",
    "\n",
    "## Exercise 1: Simulation of pyramidal cell\n",
    "\n",
    "Instead of building the morphology yourself, you will in this example work with\n",
    "anatomically reconstructed neuron models, which you can find in the cells-folder.\n",
    "We start by simulating the Mainen and Sejnowski neuron model,\n",
    "which is a layer-5 pyramidal cell from cat visual cortex. For more details, see\n",
    "[Mainen and Sejnowski 1996](https://www.ncbi.nlm.nih.gov/pubmed/8684467).\n",
    "\n",
    "\n",
    "**a)**\n",
    "**Plot neuron morphology and somatic membrane potential**\n",
    "<linebreak> Run the code-cells below to simulate the cell, show\n",
    "the neuron morphology, mark the synapse location with a red dot and plot the\n",
    "somatic membrane potential."
   ]
  },
  {
   "cell_type": "code",
   "execution_count": 1,
   "metadata": {
    "collapsed": false
   },
   "outputs": [
    {
     "name": "stderr",
     "output_type": "stream",
     "text": [
      "/Applications/anaconda/lib/python2.7/site-packages/matplotlib/font_manager.py:273: UserWarning: Matplotlib is building the font cache using fc-list. This may take a moment.\n",
      "  warnings.warn('Matplotlib is building the font cache using fc-list. This may take a moment.')\n"
     ]
    }
   ],
   "source": [
    "%matplotlib inline\n",
    "\n",
    "import LFPy\n",
    "import numpy as np\n",
    "from pylab import *\n",
    "from matplotlib.collections import PolyCollection\n",
    "from ipywidgets import widgets, fixed\n",
    "from neuron import h"
   ]
  },
  {
   "cell_type": "code",
   "execution_count": 7,
   "metadata": {
    "collapsed": false
   },
   "outputs": [],
   "source": [
    "def custom_fun():\n",
    "    h.soma.insert('hh')\n",
    "\n",
    "def simulate_n_plot_cell_with_synapse(morphology,\n",
    "                               synapse_xpos,\n",
    "                               synapse_zpos,\n",
    "                               syn_weight,\n",
    "                               stimulation_time,\n",
    "                               active_soma,\n",
    "                               rot):\n",
    "    cell_parameters = {\n",
    "        'morphology' : morphology, # from Mainen & Sejnowski, J Comput Neurosci, 1996\n",
    "        'cm' : 1.0,         # membrane capacitance\n",
    "        'Ra' : 150.,        # axial resistance\n",
    "        'v_init' : -65.,    # initial crossmembrane potential\n",
    "        'passive' : True,   # turn on NEURONs passive mechanism for all sections\n",
    "        'passive_parameters' : {'g_pas' : 1./30000, 'e_pas' : -65},\n",
    "        'dt' : 2.**-3,      # simulation time step size\n",
    "        'tstart' : 0.,      # start time of simulation, recorders start at t=0\n",
    "        'tstop' : 100.,     # stop simulation at 100 ms.\n",
    "    }\n",
    "\n",
    "    if active_soma:\n",
    "        cell_parameters['custom_fun'] = [custom_fun]\n",
    "        cell_parameters['custom_fun_args'] = [{}]\n",
    "\n",
    "    cell = LFPy.Cell(**cell_parameters)\n",
    "    cell.set_rotation(x=rot[0], y=rot[1], z=rot[2])\n",
    "\n",
    "    synapse_parameters = {\n",
    "        'idx' : cell.get_closest_idx(x=synapse_xpos, y=0., z=synapse_zpos),\n",
    "        'e' : 0.,                   # reversal potential\n",
    "        'syntype' : 'ExpSyn',       # synapse type\n",
    "        'tau' : 5.,                 # synaptic time constant\n",
    "        'weight' : syn_weight,            # synaptic weight\n",
    "        'record_current' : True,    # record synapse current\n",
    "    }\n",
    "\n",
    "    # Create synapse and set time of synaptic input\n",
    "    synapse = LFPy.Synapse(cell, **synapse_parameters)\n",
    "    synapse.set_spike_times(np.array([stimulation_time]))\n",
    "\n",
    "    # simulate cell\n",
    "    cell.simulate(rec_imem=True, rec_vmem=True)\n",
    "\n",
    "    # plot\n",
    "    fig = plt.figure()\n",
    "    ax1 = plt.subplot2grid((1,2),(0,0))\n",
    "    zips = []\n",
    "    for x, z in cell.get_idx_polygons():\n",
    "        zips.append(list(zip(x, z)))\n",
    "    polycol = PolyCollection(zips,\n",
    "                             edgecolors='none',\n",
    "                             facecolors='k')\n",
    "    ax1.add_collection(polycol)\n",
    "    ax1.plot(cell.xmid[cell.synidx], cell.zmid[cell.synidx], 'ro', ms=5)\n",
    "    ax1.set_xlim([-700, 700])\n",
    "    ax1.set_ylim([-400, 1200])\n",
    "    ax1.axis('off')\n",
    "\n",
    "    ax2 = plt.subplot2grid((1,2),(0,1))\n",
    "    ax2.plot(cell.tvec, cell.vmem[0])\n",
    "    ax2.set_xlabel('t [ms]')\n",
    "    ax2.set_ylabel('soma potential [mV]')\n",
    "    plt.show()"
   ]
  },
  {
   "cell_type": "code",
   "execution_count": 8,
   "metadata": {
    "collapsed": false
   },
   "outputs": [
    {
     "data": {
      "image/png": "[encoded data removed]",
      "text/plain": [
       "<matplotlib.figure.Figure at 0x10f487c10>"
      ]
     },
     "metadata": {},
     "output_type": "display_data"
    }
   ],
   "source": [
    "morphology = './cells/j4a.hoc'\n",
    "#morphology = './cells/cell1.asc'\n",
    "rotation = [4.99, -4.33, 3.14]\n",
    "#rotation = [np.pi/2, 0,0]\n",
    "slider = widgets.interact(simulate_n_plot_cell_with_synapse, morphology=fixed(morphology),\n",
    "                          synapse_xpos=widgets.IntSlider(min=-200.,max=200.,step=10.,value=600.),\n",
    "                          synapse_zpos=widgets.IntSlider(min=-200.,max=1400.,step=10.,value=600.),\n",
    "                          syn_weight=widgets.FloatSlider(min=0.,max=.1,step=.0001,value=0.001),\n",
    "                          active_soma=False,\n",
    "                          stimulation_time = widgets.IntSlider(min=0.,max=80.,step=10.,value=20.),\n",
    "                          rot = fixed(rotation)\n",
    "                          )"
   ]
  },
  {
   "cell_type": "markdown",
   "metadata": {},
   "source": [
    "**b)**\n",
    "Keep the soma segment inactive. Which synapse locations and synaptic weights\n",
    "will give the largest and smallest somatic responses?\n",
    "Discuss with a fellow student. Use the sliders to test your hypothesis.\n",
    "\n",
    "**c)**\n",
    "By activating the soma, can you make the neuron spike? Test with the sliders.\n",
    "\n",
    "**d)**\n",
    "If you want to study a nerve cell from layer-5b in rat cortex instead (from the\n",
    "article by [Hay et al. 2011](http://journals.plos.org/ploscompbiol/article?id=10.1371/journal.pcbi.1002107)),\n",
    "just change the morphology to the path of `cell1.asc` in the cells-folder.\n",
    "(NB: You would have to change the rotation to [np.pi/2, 0, 0], to get a meaningful morphology plot.)\n",
    "\n",
    "<!-- --- end exercise --- -->"
   ]
  }
 ],
 "metadata": {
  "kernelspec": {
   "display_name": "Python 2",
   "language": "python",
   "name": "python2"
  },
  "language_info": {
   "codemirror_mode": {
    "name": "ipython",
    "version": 2
   },
   "file_extension": ".py",
   "mimetype": "text/x-python",
   "name": "python",
   "nbconvert_exporter": "python",
   "pygments_lexer": "ipython2",
   "version": "2.7.12"
  }
 },
 "nbformat": 4,
 "nbformat_minor": 2
}
